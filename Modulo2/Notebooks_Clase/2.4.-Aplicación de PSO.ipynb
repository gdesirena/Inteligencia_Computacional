{
 "cells": [
  {
   "cell_type": "markdown",
   "id": "bd98cff3",
   "metadata": {},
   "source": [
    "<img style=\"float: left;;\" src='Figures/alinco.png' /></a>\n",
    "\n",
    "# <center> <font color= #000047> Módulo 2: Aplicación de PSO"
   ]
  },
  {
   "cell_type": "markdown",
   "id": "762f3ec6",
   "metadata": {},
   "source": [
    "## Clasificación usando regresión logística optimizada por un pso."
   ]
  },
  {
   "cell_type": "markdown",
   "id": "33a254eb",
   "metadata": {},
   "source": [
    "La regresión logística es un algoritmo de aprendizaje automático que se utiliza para hacer predicciones para encontrar el valor de una variable dependiente, como la de predecir si un tumor es maligno o benigno, la clasificación del correo electrónico (spam o no spam) o la admisión a una universidad (admitido o no admitido), este algoritmo va aprendiendo de variables independientes (varias características relevantes para el problema).\n",
    "\n",
    "Por ejemplo, para clasificar un correo electrónico, el algoritmo utilizará las palabras del correo electrónico como características y, en función de eso, hará una predicción de si el correo electrónico es spam o no."
   ]
  },
  {
   "cell_type": "code",
   "execution_count": 1,
   "id": "26c73a44",
   "metadata": {},
   "outputs": [],
   "source": [
    "import numpy as np\n",
    "import pandas as pd"
   ]
  },
  {
   "cell_type": "markdown",
   "id": "dbc86fc3",
   "metadata": {},
   "source": [
    "### Codificando Regresión Logística"
   ]
  },
  {
   "cell_type": "code",
   "execution_count": 2,
   "id": "a32fa59d",
   "metadata": {},
   "outputs": [
    {
     "data": {
      "text/html": [
       "<div>\n",
       "<style scoped>\n",
       "    .dataframe tbody tr th:only-of-type {\n",
       "        vertical-align: middle;\n",
       "    }\n",
       "\n",
       "    .dataframe tbody tr th {\n",
       "        vertical-align: top;\n",
       "    }\n",
       "\n",
       "    .dataframe thead th {\n",
       "        text-align: right;\n",
       "    }\n",
       "</style>\n",
       "<table border=\"1\" class=\"dataframe\">\n",
       "  <thead>\n",
       "    <tr style=\"text-align: right;\">\n",
       "      <th></th>\n",
       "      <th>0</th>\n",
       "      <th>1</th>\n",
       "      <th>2</th>\n",
       "    </tr>\n",
       "  </thead>\n",
       "  <tbody>\n",
       "    <tr>\n",
       "      <th>0</th>\n",
       "      <td>0.131117</td>\n",
       "      <td>-0.694103</td>\n",
       "      <td>0.0</td>\n",
       "    </tr>\n",
       "    <tr>\n",
       "      <th>1</th>\n",
       "      <td>0.567389</td>\n",
       "      <td>0.339034</td>\n",
       "      <td>0.0</td>\n",
       "    </tr>\n",
       "    <tr>\n",
       "      <th>2</th>\n",
       "      <td>2.855025</td>\n",
       "      <td>2.971203</td>\n",
       "      <td>1.0</td>\n",
       "    </tr>\n",
       "    <tr>\n",
       "      <th>3</th>\n",
       "      <td>0.541739</td>\n",
       "      <td>0.560591</td>\n",
       "      <td>0.0</td>\n",
       "    </tr>\n",
       "    <tr>\n",
       "      <th>4</th>\n",
       "      <td>0.073822</td>\n",
       "      <td>-0.335345</td>\n",
       "      <td>0.0</td>\n",
       "    </tr>\n",
       "    <tr>\n",
       "      <th>...</th>\n",
       "      <td>...</td>\n",
       "      <td>...</td>\n",
       "      <td>...</td>\n",
       "    </tr>\n",
       "    <tr>\n",
       "      <th>195</th>\n",
       "      <td>2.838675</td>\n",
       "      <td>2.946874</td>\n",
       "      <td>1.0</td>\n",
       "    </tr>\n",
       "    <tr>\n",
       "      <th>196</th>\n",
       "      <td>0.479348</td>\n",
       "      <td>0.361812</td>\n",
       "      <td>0.0</td>\n",
       "    </tr>\n",
       "    <tr>\n",
       "      <th>197</th>\n",
       "      <td>2.032113</td>\n",
       "      <td>3.419321</td>\n",
       "      <td>1.0</td>\n",
       "    </tr>\n",
       "    <tr>\n",
       "      <th>198</th>\n",
       "      <td>3.537026</td>\n",
       "      <td>3.091923</td>\n",
       "      <td>1.0</td>\n",
       "    </tr>\n",
       "    <tr>\n",
       "      <th>199</th>\n",
       "      <td>2.434776</td>\n",
       "      <td>2.772654</td>\n",
       "      <td>1.0</td>\n",
       "    </tr>\n",
       "  </tbody>\n",
       "</table>\n",
       "<p>200 rows × 3 columns</p>\n",
       "</div>"
      ],
      "text/plain": [
       "            0         1    2\n",
       "0    0.131117 -0.694103  0.0\n",
       "1    0.567389  0.339034  0.0\n",
       "2    2.855025  2.971203  1.0\n",
       "3    0.541739  0.560591  0.0\n",
       "4    0.073822 -0.335345  0.0\n",
       "..        ...       ...  ...\n",
       "195  2.838675  2.946874  1.0\n",
       "196  0.479348  0.361812  0.0\n",
       "197  2.032113  3.419321  1.0\n",
       "198  3.537026  3.091923  1.0\n",
       "199  2.434776  2.772654  1.0\n",
       "\n",
       "[200 rows x 3 columns]"
      ]
     },
     "execution_count": 2,
     "metadata": {},
     "output_type": "execute_result"
    }
   ],
   "source": [
    "data_df = pd.read_csv('Data/exdata1.csv')\n",
    "data_df"
   ]
  },
  {
   "cell_type": "code",
   "execution_count": 3,
   "id": "1eceb586",
   "metadata": {},
   "outputs": [],
   "source": [
    "X = data_df.iloc[:,:-1]"
   ]
  },
  {
   "cell_type": "code",
   "execution_count": 4,
   "id": "03a6b543",
   "metadata": {},
   "outputs": [
    {
     "data": {
      "text/plain": [
       "(200, 2)"
      ]
     },
     "execution_count": 4,
     "metadata": {},
     "output_type": "execute_result"
    }
   ],
   "source": [
    "X.shape"
   ]
  },
  {
   "cell_type": "code",
   "execution_count": 5,
   "id": "963fcc0a",
   "metadata": {},
   "outputs": [
    {
     "data": {
      "text/plain": [
       "pandas.core.frame.DataFrame"
      ]
     },
     "execution_count": 5,
     "metadata": {},
     "output_type": "execute_result"
    }
   ],
   "source": [
    "type(X)"
   ]
  },
  {
   "cell_type": "code",
   "execution_count": 6,
   "id": "f482fdba",
   "metadata": {},
   "outputs": [],
   "source": [
    "y = data_df.iloc[:,-1]"
   ]
  },
  {
   "cell_type": "code",
   "execution_count": 7,
   "id": "b99a19ff",
   "metadata": {},
   "outputs": [
    {
     "data": {
      "text/plain": [
       "(200,)"
      ]
     },
     "execution_count": 7,
     "metadata": {},
     "output_type": "execute_result"
    }
   ],
   "source": [
    "y.shape"
   ]
  },
  {
   "cell_type": "code",
   "execution_count": 8,
   "id": "681c7f7f",
   "metadata": {},
   "outputs": [
    {
     "data": {
      "text/plain": [
       "pandas.core.series.Series"
      ]
     },
     "execution_count": 8,
     "metadata": {},
     "output_type": "execute_result"
    }
   ],
   "source": [
    "type(y)"
   ]
  },
  {
   "cell_type": "code",
   "execution_count": 9,
   "id": "61e5bdf5",
   "metadata": {},
   "outputs": [
    {
     "data": {
      "text/plain": [
       "<matplotlib.collections.PathCollection at 0x15525361fa0>"
      ]
     },
     "execution_count": 9,
     "metadata": {},
     "output_type": "execute_result"
    },
    {
     "data": {
      "image/png": "[encoded data removed]",
      "text/plain": [
       "<Figure size 432x288 with 1 Axes>"
      ]
     },
     "metadata": {
      "needs_background": "light"
     },
     "output_type": "display_data"
    }
   ],
   "source": [
    "import matplotlib.pyplot as plt\n",
    "plt.figure(figsize=(6,4))\n",
    "plt.scatter(X.iloc[:,0].values, X.iloc[:,1].values, c=y)"
   ]
  },
  {
   "cell_type": "markdown",
   "id": "767470f4",
   "metadata": {},
   "source": [
    "Una regresión Linea puede representarse como:\n",
    "\n",
    "$$\\hat{f}(x) = \\beta^T X$$\n",
    "\n",
    "Aplicando la función sigmoide a la salida de la regresión logística:\n",
    "\n",
    "$$\\hat{f}(x) = \\sigma(\\beta^T X)$$\n",
    "\n",
    "Donde la función sigmoide está definida como:\n",
    "\n",
    "$$\\sigma(t) = \\frac{1}{1+e^{-t}}$$\n",
    "\n",
    "Entonces el modelo de regresión logística nos queda:\n",
    "\n",
    "$$\\hat{f}(x) = \\frac{1}{1+e^{-\\beta^T X}}$$\n",
    "\n",
    "\n",
    "Si la suma ponderada de las entradas es mayor que cero, la clase predicha es 1 y viceversa. Entonces, el límite de decisión que separa ambas clases se puede encontrar al establecer la suma ponderada de las entradas en 0.\n",
    "\n",
    "$$\n",
    "\\hat{f}(\\textbf{x}) = \\begin{cases}  \\textrm{>0.5, si  }  \\beta^T X \\geq 0 \\\\ \\\\  \\textrm{<0.5, si  } \\beta^T X \\leq 0\\\\ \\end{cases}\n",
    "$$\n",
    "\n",
    "#### Función de costo\n",
    "\n",
    "Al igual que la regresión lineal, se define una función de costo para nuestro modelo y el objetivo será minimizar el costo.\n",
    "\n",
    "$$\n",
    "cost = \\begin{cases}  -\\log{\\hat{f}(x)}, \\textrm{si  }  y=1 \\\\ \\\\  -\\log{(1 - \\hat{f}(x)}), \\textrm{si  }  y=0 \\\\ \\end{cases}\n",
    "$$\n",
    "\n",
    "#### Intuición de la función de costo\n",
    "\n",
    "Si la clase de los datos reales es 1 y el modelo predice 0, deberíamos penalizar al modelo y viceversa. Como se puede ver en la figura de abajo, para la gráfica $-\\log(\\hat{f}(x))$ cuando $\\hat{f}(x)$ se acerca a 1, el costo es 0 y cuando h(x) se acerca a 0, el costo es infinito (es decir, penalizamos fuertemente el modelo). De manera similar, para la gráfica $-\\log(1-\\hat{f}(x))$ cuando el valor real es 0 y el modelo predice 0, el costo es 0 y el costo se vuelve infinito cuando $\\hat{f}(x)$ se acerca a 1.\n",
    "\n",
    "<img style=\"float: center;;\" src='Figures/log_reg.png' width=\"400\" height=\"100\"/></a>"
   ]
  },
  {
   "cell_type": "code",
   "execution_count": null,
   "id": "4733355c",
   "metadata": {},
   "outputs": [],
   "source": []
  },
  {
   "cell_type": "code",
   "execution_count": null,
   "id": "700e0c53",
   "metadata": {},
   "outputs": [],
   "source": []
  },
  {
   "cell_type": "markdown",
   "id": "fb9187dd",
   "metadata": {},
   "source": [
    "Combinando las dos ecuaciones tenemos:\n",
    "\n",
    "$$cost(\\hat{f}(x),y) = -y\\log(\\hat{f}(x)) - (1-y)\\log(1-\\hat{f}(x))$$\n",
    "\n",
    "Entonces el costo de todos los puntos en los datos reales se puede calcular tomando el promedio del costo de todas las muestras:"
   ]
  },
  {
   "cell_type": "markdown",
   "id": "e283c8b3",
   "metadata": {},
   "source": [
    "$$J(\\beta) = -\\frac{1}{m} \\sum_{i=1}^m[y^{(i)}\\log\\hat{f}(x^{(i)}) + (1-y^{(i)})\\log(1 - \\hat{f}(x^{(i)}))]$$"
   ]
  },
  {
   "cell_type": "code",
   "execution_count": 10,
   "id": "f36d5e06",
   "metadata": {},
   "outputs": [],
   "source": [
    "def sigmoid(X):\n",
    "    return 1/(1+np.exp(-X))"
   ]
  },
  {
   "cell_type": "code",
   "execution_count": 11,
   "id": "3235823a",
   "metadata": {},
   "outputs": [],
   "source": [
    "def regresor(beta,X):\n",
    "    return np.dot(X,beta)"
   ]
  },
  {
   "cell_type": "code",
   "execution_count": 12,
   "id": "ad47c8f9",
   "metadata": {},
   "outputs": [],
   "source": [
    "def f_hat_model(beta,X):\n",
    "    return sigmoid(regresor(beta,X))"
   ]
  },
  {
   "cell_type": "code",
   "execution_count": 13,
   "id": "e925cb36",
   "metadata": {},
   "outputs": [],
   "source": [
    "def cost_function(beta,X, y):\n",
    "    m=X.shape[0]\n",
    "    cost = -(1/m)*np.sum(y*np.log(f_hat_model(beta,X)) + (1-y)*np.log(1 - f_hat_model(beta,X)))\n",
    "    return cost"
   ]
  },
  {
   "cell_type": "code",
   "execution_count": 14,
   "id": "77a8a30e",
   "metadata": {},
   "outputs": [],
   "source": [
    "def gradient(beta,X,y):\n",
    "    m=X.shape[0]\n",
    "    return (1/m)*np.dot(X.T, sigmoid(regresor(beta,X)) - y)"
   ]
  },
  {
   "cell_type": "markdown",
   "id": "54324408",
   "metadata": {},
   "source": [
    "### Optimizando con el Gradiente"
   ]
  },
  {
   "cell_type": "code",
   "execution_count": 15,
   "id": "2037e1fe",
   "metadata": {},
   "outputs": [
    {
     "data": {
      "text/plain": [
       "pandas.core.series.Series"
      ]
     },
     "execution_count": 15,
     "metadata": {},
     "output_type": "execute_result"
    }
   ],
   "source": [
    "type(y)"
   ]
  },
  {
   "cell_type": "code",
   "execution_count": 16,
   "id": "3d718d7c",
   "metadata": {},
   "outputs": [],
   "source": [
    "Xa = np.c_[np.ones((X.shape[0],1)), X]\n",
    "y = y.values.reshape(len(y),1)\n",
    "Beta = np.zeros((Xa.shape[1],1))"
   ]
  },
  {
   "cell_type": "code",
   "execution_count": 17,
   "id": "89c0a33f",
   "metadata": {},
   "outputs": [],
   "source": [
    "import scipy.optimize as opt"
   ]
  },
  {
   "cell_type": "code",
   "execution_count": 19,
   "id": "0f12532d",
   "metadata": {},
   "outputs": [
    {
     "name": "stdout",
     "output_type": "stream",
     "text": [
      "Help on function fmin_tnc in module scipy.optimize.tnc:\n",
      "\n",
      "fmin_tnc(func, x0, fprime=None, args=(), approx_grad=0, bounds=None, epsilon=1e-08, scale=None, offset=None, messages=15, maxCGit=-1, maxfun=None, eta=-1, stepmx=0, accuracy=0, fmin=0, ftol=-1, xtol=-1, pgtol=-1, rescale=-1, disp=None, callback=None)\n",
      "    Minimize a function with variables subject to bounds, using\n",
      "    gradient information in a truncated Newton algorithm. This\n",
      "    method wraps a C implementation of the algorithm.\n",
      "    \n",
      "    Parameters\n",
      "    ----------\n",
      "    func : callable ``func(x, *args)``\n",
      "        Function to minimize.  Must do one of:\n",
      "    \n",
      "        1. Return f and g, where f is the value of the function and g its\n",
      "           gradient (a list of floats).\n",
      "    \n",
      "        2. Return the function value but supply gradient function\n",
      "           separately as `fprime`.\n",
      "    \n",
      "        3. Return the function value and set ``approx_grad=True``.\n",
      "    \n",
      "        If the function returns None, the minimization\n",
      "        is aborted.\n",
      "    x0 : array_like\n",
      "        Initial estimate of minimum.\n",
      "    fprime : callable ``fprime(x, *args)``, optional\n",
      "        Gradient of `func`. If None, then either `func` must return the\n",
      "        function value and the gradient (``f,g = func(x, *args)``)\n",
      "        or `approx_grad` must be True.\n",
      "    args : tuple, optional\n",
      "        Arguments to pass to function.\n",
      "    approx_grad : bool, optional\n",
      "        If true, approximate the gradient numerically.\n",
      "    bounds : list, optional\n",
      "        (min, max) pairs for each element in x0, defining the\n",
      "        bounds on that parameter. Use None or +/-inf for one of\n",
      "        min or max when there is no bound in that direction.\n",
      "    epsilon : float, optional\n",
      "        Used if approx_grad is True. The stepsize in a finite\n",
      "        difference approximation for fprime.\n",
      "    scale : array_like, optional\n",
      "        Scaling factors to apply to each variable.  If None, the\n",
      "        factors are up-low for interval bounded variables and\n",
      "        1+|x| for the others.  Defaults to None.\n",
      "    offset : array_like, optional\n",
      "        Value to subtract from each variable.  If None, the\n",
      "        offsets are (up+low)/2 for interval bounded variables\n",
      "        and x for the others.\n",
      "    messages : int, optional\n",
      "        Bit mask used to select messages display during\n",
      "        minimization values defined in the MSGS dict.  Defaults to\n",
      "        MGS_ALL.\n",
      "    disp : int, optional\n",
      "        Integer interface to messages.  0 = no message, 5 = all messages\n",
      "    maxCGit : int, optional\n",
      "        Maximum number of hessian*vector evaluations per main\n",
      "        iteration.  If maxCGit == 0, the direction chosen is\n",
      "        -gradient if maxCGit < 0, maxCGit is set to\n",
      "        max(1,min(50,n/2)).  Defaults to -1.\n",
      "    maxfun : int, optional\n",
      "        Maximum number of function evaluation.  if None, maxfun is\n",
      "        set to max(100, 10*len(x0)).  Defaults to None.\n",
      "    eta : float, optional\n",
      "        Severity of the line search. if < 0 or > 1, set to 0.25.\n",
      "        Defaults to -1.\n",
      "    stepmx : float, optional\n",
      "        Maximum step for the line search.  May be increased during\n",
      "        call.  If too small, it will be set to 10.0.  Defaults to 0.\n",
      "    accuracy : float, optional\n",
      "        Relative precision for finite difference calculations.  If\n",
      "        <= machine_precision, set to sqrt(machine_precision).\n",
      "        Defaults to 0.\n",
      "    fmin : float, optional\n",
      "        Minimum function value estimate.  Defaults to 0.\n",
      "    ftol : float, optional\n",
      "        Precision goal for the value of f in the stopping criterion.\n",
      "        If ftol < 0.0, ftol is set to 0.0 defaults to -1.\n",
      "    xtol : float, optional\n",
      "        Precision goal for the value of x in the stopping\n",
      "        criterion (after applying x scaling factors).  If xtol <\n",
      "        0.0, xtol is set to sqrt(machine_precision).  Defaults to\n",
      "        -1.\n",
      "    pgtol : float, optional\n",
      "        Precision goal for the value of the projected gradient in\n",
      "        the stopping criterion (after applying x scaling factors).\n",
      "        If pgtol < 0.0, pgtol is set to 1e-2 * sqrt(accuracy).\n",
      "        Setting it to 0.0 is not recommended.  Defaults to -1.\n",
      "    rescale : float, optional\n",
      "        Scaling factor (in log10) used to trigger f value\n",
      "        rescaling.  If 0, rescale at each iteration.  If a large\n",
      "        value, never rescale.  If < 0, rescale is set to 1.3.\n",
      "    callback : callable, optional\n",
      "        Called after each iteration, as callback(xk), where xk is the\n",
      "        current parameter vector.\n",
      "    \n",
      "    Returns\n",
      "    -------\n",
      "    x : ndarray\n",
      "        The solution.\n",
      "    nfeval : int\n",
      "        The number of function evaluations.\n",
      "    rc : int\n",
      "        Return code, see below\n",
      "    \n",
      "    See also\n",
      "    --------\n",
      "    minimize: Interface to minimization algorithms for multivariate\n",
      "        functions. See the 'TNC' `method` in particular.\n",
      "    \n",
      "    Notes\n",
      "    -----\n",
      "    The underlying algorithm is truncated Newton, also called\n",
      "    Newton Conjugate-Gradient. This method differs from\n",
      "    scipy.optimize.fmin_ncg in that\n",
      "    \n",
      "    1. It wraps a C implementation of the algorithm\n",
      "    2. It allows each variable to be given an upper and lower bound.\n",
      "    \n",
      "    The algorithm incorporates the bound constraints by determining\n",
      "    the descent direction as in an unconstrained truncated Newton,\n",
      "    but never taking a step-size large enough to leave the space\n",
      "    of feasible x's. The algorithm keeps track of a set of\n",
      "    currently active constraints, and ignores them when computing\n",
      "    the minimum allowable step size. (The x's associated with the\n",
      "    active constraint are kept fixed.) If the maximum allowable\n",
      "    step size is zero then a new constraint is added. At the end\n",
      "    of each iteration one of the constraints may be deemed no\n",
      "    longer active and removed. A constraint is considered\n",
      "    no longer active is if it is currently active\n",
      "    but the gradient for that variable points inward from the\n",
      "    constraint. The specific constraint removed is the one\n",
      "    associated with the variable of largest index whose\n",
      "    constraint is no longer active.\n",
      "    \n",
      "    Return codes are defined as follows::\n",
      "    \n",
      "        -1 : Infeasible (lower bound > upper bound)\n",
      "         0 : Local minimum reached (|pg| ~= 0)\n",
      "         1 : Converged (|f_n-f_(n-1)| ~= 0)\n",
      "         2 : Converged (|x_n-x_(n-1)| ~= 0)\n",
      "         3 : Max. number of function evaluations reached\n",
      "         4 : Linear search failed\n",
      "         5 : All lower bounds are equal to the upper bounds\n",
      "         6 : Unable to progress\n",
      "         7 : User requested end of minimization\n",
      "    \n",
      "    References\n",
      "    ----------\n",
      "    Wright S., Nocedal J. (2006), 'Numerical Optimization'\n",
      "    \n",
      "    Nash S.G. (1984), \"Newton-Type Minimization Via the Lanczos Method\",\n",
      "    SIAM Journal of Numerical Analysis 21, pp. 770-778\n",
      "\n"
     ]
    }
   ],
   "source": [
    "help(opt.fmin_tnc)"
   ]
  },
  {
   "cell_type": "code",
   "execution_count": 20,
   "id": "e54bd030",
   "metadata": {},
   "outputs": [],
   "source": [
    "def fit(X, y, beta):\n",
    "    opt_pesos = opt.fmin_tnc(func=cost_function, x0=beta, fprime=gradient, args=(X,y.flatten()))\n",
    "    return opt_pesos[0]\n"
   ]
  },
  {
   "cell_type": "code",
   "execution_count": 21,
   "id": "dd2fc8af",
   "metadata": {},
   "outputs": [
    {
     "data": {
      "text/plain": [
       "array([[0.],\n",
       "       [0.],\n",
       "       [0.]])"
      ]
     },
     "execution_count": 21,
     "metadata": {},
     "output_type": "execute_result"
    }
   ],
   "source": [
    "Beta"
   ]
  },
  {
   "cell_type": "code",
   "execution_count": 22,
   "id": "ff44d247",
   "metadata": {},
   "outputs": [
    {
     "name": "stderr",
     "output_type": "stream",
     "text": [
      "<ipython-input-13-e6edb3c09480>:3: RuntimeWarning: divide by zero encountered in log\n",
      "  cost = -(1/m)*np.sum(y*np.log(f_hat_model(beta,X)) + (1-y)*np.log(1 - f_hat_model(beta,X)))\n",
      "<ipython-input-13-e6edb3c09480>:3: RuntimeWarning: invalid value encountered in multiply\n",
      "  cost = -(1/m)*np.sum(y*np.log(f_hat_model(beta,X)) + (1-y)*np.log(1 - f_hat_model(beta,X)))\n"
     ]
    },
    {
     "data": {
      "text/plain": [
       "array([-25.11316106,  10.64528041,   5.3689346 ])"
      ]
     },
     "execution_count": 22,
     "metadata": {},
     "output_type": "execute_result"
    }
   ],
   "source": [
    "Beta_sol = fit(Xa, y, Beta)\n",
    "Beta_sol"
   ]
  },
  {
   "cell_type": "markdown",
   "id": "cd19807c",
   "metadata": {},
   "source": [
    "$$f_{reg} = -25.11 + 10.64*x1 + 5.36*x2$$\n",
    "$$\\hat{f} = \\sigma(-25.11 + 10.64*x1 + 5.36*x2)$$\n",
    "\n",
    "$$\\hat{f}(x) = \\frac{1}{1+e^{-(-25.11 + 10.64*x1 + 5.36*x2)}}$$"
   ]
  },
  {
   "cell_type": "code",
   "execution_count": null,
   "id": "cbb70633",
   "metadata": {},
   "outputs": [],
   "source": []
  },
  {
   "cell_type": "code",
   "execution_count": null,
   "id": "7335dbe5",
   "metadata": {},
   "outputs": [],
   "source": []
  },
  {
   "cell_type": "markdown",
   "id": "a3d68332",
   "metadata": {},
   "source": [
    "Como hay dos características en nuestro conjunto de datos, la ecuación lineal se puede representar mediante:\n",
    "\n",
    "$$\\hat{f}(x)=\\beta_0 + \\beta_1 x_1 + \\beta_2 x_2$$\n",
    "\n",
    "El límite de decisión se puede encontrar estableciendo la suma ponderada de las entradas en 0. Es decir igualar $\\hat{f}(x)=0$, entonces:\n",
    "\n",
    "$$x_2 = - \\frac{\\beta_0 + \\beta_1 x_1}{\\beta_2}$$\n",
    "\n",
    "0\n",
    "\n",
    "$$x_1 = - \\frac{\\beta_0 + \\beta_2 x_2}{\\beta_1}$$"
   ]
  },
  {
   "cell_type": "code",
   "execution_count": 23,
   "id": "d3ec6ee4",
   "metadata": {},
   "outputs": [
    {
     "data": {
      "image/png": "[encoded data removed]",
      "text/plain": [
       "<Figure size 432x288 with 1 Axes>"
      ]
     },
     "metadata": {
      "needs_background": "light"
     },
     "output_type": "display_data"
    }
   ],
   "source": [
    "x_values = [np.min(Xa[:,2]) -5, np.max(Xa[:,2])+5]\n",
    "y_values = - (Beta_sol[0] + np.dot(Beta_sol[2],x_values)) / Beta_sol[1]\n",
    "\n",
    "plt.figure(figsize=(6,4))\n",
    "plt.scatter(X.iloc[:,0].values, X.iloc[:,1].values, c=y)\n",
    "plt.plot(x_values, y_values, label='frontera de decisión')\n",
    "plt.xlabel('$x_1$')\n",
    "plt.ylabel('$x_2$')\n",
    "plt.show()"
   ]
  },
  {
   "cell_type": "code",
   "execution_count": 24,
   "id": "af17b814",
   "metadata": {},
   "outputs": [],
   "source": [
    "X_new = np.array([[1, 1,2]])"
   ]
  },
  {
   "cell_type": "code",
   "execution_count": 28,
   "id": "804e5991",
   "metadata": {},
   "outputs": [
    {
     "data": {
      "text/plain": [
       "array([1., 0.])"
      ]
     },
     "execution_count": 28,
     "metadata": {},
     "output_type": "execute_result"
    }
   ],
   "source": [
    "#Predicción\n",
    "X_new = np.array([[1, 8,5],\n",
    "                  [1, 1,2]])\n",
    "np.round(f_hat_model(Beta_sol,X_new))"
   ]
  },
  {
   "cell_type": "code",
   "execution_count": null,
   "id": "c791037a",
   "metadata": {},
   "outputs": [],
   "source": []
  },
  {
   "cell_type": "markdown",
   "id": "4514ebab",
   "metadata": {},
   "source": [
    "### Con Sklearn"
   ]
  },
  {
   "cell_type": "code",
   "execution_count": 32,
   "id": "9941df93",
   "metadata": {},
   "outputs": [],
   "source": [
    "from sklearn.linear_model import LogisticRegression\n",
    "from sklearn.metrics import accuracy_score\n",
    "\n",
    "model = LogisticRegression(fit_intercept=False)\n",
    "model.fit(Xa, y.ravel())\n",
    "predict_class = model.predict(Xa)\n",
    "\n",
    "Beta_sklearn = model.coef_[0]"
   ]
  },
  {
   "cell_type": "code",
   "execution_count": 33,
   "id": "d2cd1b6c",
   "metadata": {},
   "outputs": [
    {
     "data": {
      "text/plain": [
       "array([-3.72950368,  1.44931094,  1.32200779])"
      ]
     },
     "execution_count": 33,
     "metadata": {},
     "output_type": "execute_result"
    }
   ],
   "source": [
    "Beta_sklearn"
   ]
  },
  {
   "cell_type": "code",
   "execution_count": 34,
   "id": "3a7e84cf",
   "metadata": {},
   "outputs": [
    {
     "data": {
      "image/png": "[encoded data removed]",
      "text/plain": [
       "<Figure size 432x288 with 1 Axes>"
      ]
     },
     "metadata": {
      "needs_background": "light"
     },
     "output_type": "display_data"
    }
   ],
   "source": [
    "x_values = [np.min(Xa[:,2]) -5, np.max(Xa[:,2])+5]\n",
    "y_values = - (Beta_sklearn[0] + np.dot(Beta_sklearn[2],x_values)) / Beta_sklearn[1]\n",
    "\n",
    "plt.figure(figsize=(6,4))\n",
    "plt.scatter(X.iloc[:,0].values, X.iloc[:,1].values, c=y)\n",
    "plt.plot(x_values, y_values, label='frontera de decisión')\n",
    "plt.xlabel('$x_1$')\n",
    "plt.ylabel('$x_2$')\n",
    "plt.show()"
   ]
  },
  {
   "cell_type": "markdown",
   "id": "ed6d2d23",
   "metadata": {},
   "source": [
    "## Aplicando PSO"
   ]
  },
  {
   "cell_type": "code",
   "execution_count": null,
   "id": "af7bcd3d",
   "metadata": {},
   "outputs": [],
   "source": [
    "def cost_function(beta,X, y):\n",
    "    m=X.shape[0]\n",
    "    cost = -(1/m)*np.sum(y*np.log(f_hat_model(beta,X)) + (1-y)*np.log(1 - f_hat_model(beta,X)))\n",
    "    return cost"
   ]
  },
  {
   "cell_type": "code",
   "execution_count": null,
   "id": "d96b9599",
   "metadata": {},
   "outputs": [],
   "source": []
  }
 ],
 "metadata": {
  "kernelspec": {
   "display_name": "Python 3",
   "language": "python",
   "name": "python3"
  },
  "language_info": {
   "codemirror_mode": {
    "name": "ipython",
    "version": 3
   },
   "file_extension": ".py",
   "mimetype": "text/x-python",
   "name": "python",
   "nbconvert_exporter": "python",
   "pygments_lexer": "ipython3",
   "version": "3.8.8"
  }
 },
 "nbformat": 4,
 "nbformat_minor": 5
}
