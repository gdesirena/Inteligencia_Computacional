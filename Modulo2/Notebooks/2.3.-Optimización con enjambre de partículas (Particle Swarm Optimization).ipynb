{
 "cells": [
  {
   "cell_type": "markdown",
   "id": "bd98cff3",
   "metadata": {},
   "source": [
    "<img style=\"float: left;;\" src='Figures/alinco.png' /></a>\n",
    "\n",
    "# <center> <font color= #000047> Módulo 2: Optimización con enjambre de partículas (Particle Swarm Optimization)"
   ]
  },
  {
   "cell_type": "markdown",
   "id": "8a8ea145",
   "metadata": {},
   "source": [
    "## Introducción\n",
    "\n",
    "La optimización por enjambre de partículas (*Particle Swarm Optimization, PSO*) es un método de optimización heurística orientado a encontrar mínimos o máximos globales. Su funcionamiento está inspirado en el comportamiento que tienen las bandadas de pájaros o bancos de peces en los que, el movimiento de cada individuo (dirección, velocidad, aceleración...), es el resultado de combinar las decisiones individuales de cada uno con el comportamiento del resto.\n",
    "\n",
    "> *El método de enjambre de partículas es solo una de las muchas estrategias de optimización heurística que existen, una alternativa común son los algoritmos genéticos.*\n",
    "\n",
    "> *La optimización heurística no tiene por qué ser la forma de optimización más adecuada en todos los escenarios. Si el problema en cuestión puede optimizarse de forma analítica, suele ser más adecuado resolverlo de esta forma.*\n",
    "\n",
    "> *La implementación de algoritmo que se muestra en este documento pretende ser lo más explicativa posible aunque para ello no sea la más eficiente.*\n"
   ]
  },
  {
   "cell_type": "markdown",
   "id": "2345bb4f",
   "metadata": {},
   "source": [
    "## Algoritmo \n",
    "<a name=\"Algoritmo\"></a>\n",
    "\n",
    "Aunque existen variaciones, algunas de las cuales se describen a lo largo de este documento, en términos generales, la estructura de un algoritmo *PSO* para optimizar (maximizar o minimizar) una función con una o múltiples variables sigue los siguientes pasos:\n",
    "\n",
    "---\n",
    "\n",
    "1. Crear un enjambre inicial de $n$ partículas aleatorias. Cada partícula consta de 4 elementos: una posición que representa una determinada combinación de valores de las variables, el valor de la función objetivo en la posición donde se encuentra la partícula, una velocidad que indica cómo y hacia donde se desplaza la partícula, y un registro de la mejor posición en la que ha estado la partícula hasta el momento.\n",
    "<br><br>\n",
    "\n",
    "2. Evaluar cada partícula con la función objetivo.\n",
    "<br><br>\n",
    "\n",
    "3. Actualizar la posición y velocidad de cada partícula. Esta es la parte que proporciona al algoritmo la capacidad de optimización. En el apartado **Mover partícula** se describe con detalle el proceso.\n",
    "<br><br>\n",
    "\n",
    "5. Si no se cumple un criterio de parada, volver al paso 2.\n",
    "\n",
    "---\n"
   ]
  },
  {
   "cell_type": "markdown",
   "id": "d426ae5d",
   "metadata": {},
   "source": [
    "### Crear partícula\n",
    "<a name=\"partícula\"></a>\n",
    "\n",
    "Cada partícula está definida por una posición, velocidad y valor que varían a medida que la partícula se mueve. Además, también almacena la mejor posición en la que ha estado hasta el momento. Cuando se crea aun nueva partícula, únicamente se dispone de información sobre su posición y velocidad (normalmente iniciada como cero), el resto de valores no se conocen hasta que la partícula es evaluada."
   ]
  },
  {
   "cell_type": "markdown",
   "id": "aa70c793",
   "metadata": {},
   "source": [
    "### Evaluar partícula\n",
    "<a name=\"Evaluar partícula\"></a>\n",
    "\n",
    "Evaluar una partícula consiste en calcular el valor de la función objetivo en la posición que ocupa la partícula es ese momento. Cada partícula almacena también la posición con mejor valor en la que ha estado hasta el momento. Para poder identificar\n",
    "si una nueva posición es mejor que las anteriores, es necesario conocer si se trata de un problema de minimización o maximización."
   ]
  },
  {
   "cell_type": "markdown",
   "id": "c6c996eb",
   "metadata": {},
   "source": [
    "### Mover partícula\n",
    "<a name=\"Mover partícula\"></a>\n",
    "\n",
    "Mover una partícula implica actualizar su velocidad y posición. Este paso es el más importante ya que otorga al algoritmo la capacidad de optimizar.\n",
    "\n",
    "La velocidad de cada partícula del enjambre se actualiza empleando la siguiente ecuación:\n",
    "\n",
    "$$v_i(t+1) = wv_i(t) + c_1r_1[\\hat{x}_i(t) - x_i(t)] + c_2r_2[g(t) - x_i(t)]$$\n",
    "\n",
    "donde:\n",
    "\n",
    "+ $v_i(t+1)$: velocidad de la partícula $i$ en el momento $t + 1$, es decir, la nueva velocidad.\n",
    "+ $v_i(t)$: velocidad de la partícula $i$ en el momento $t$, es decir, la velocidad actual.\n",
    "+ $w$: coeficiente de inercia, reduce o aumenta a la velocidad de la partícula.\n",
    "+ $c_1$: coeficiente cognitivo.\n",
    "+ $r_1$: vector de valores aleatorios entre 0 y 1 de longitud igual a la del vector velocidad.\n",
    "+ $\\hat{x}_i(t)$: mejor posición en la que ha estado la partícula $i$ hasta el momento.\n",
    "+ $x_i(t)$: posición de la partícula $i$ en el momento $t$.\n",
    "+ $c_2$: coeficiente social.\n",
    "+ $r_2$: vector de valores aleatorios entre 0 y 1 de longitud igual a la del vector velocidad.\n",
    "+ $g(t)$: posición de todo el enjambre en el momento $t$, el mejor valor global.\n",
    "<br>\n",
    "\n",
    "Para comprender como se relaciona esta ecuación con el movimiento de la partícula, resulta útil diferenciar tres partes:\n",
    "\n",
    "+ $wv_i(t)$ es la componente de inercia, responsable de mantener a la partícula moviéndose en la dirección en la que lo ha estado haciendo hasta el momento. El valor recomendado del coeficiente de inercia $w$ suele ser entre 0.8 y 1.2. Si $w<1$, la partícula se va desacelerando a medida que avanzan las iteraciones, esto se traduce en menor exploración pero una convergencia hacia el óptimo más rápida. Si $w>1$, la partícula se va acelerando, lo que permite explorar más zonas del espacio de la función pero dificulta la convergencia.\n",
    "<br><br>\n",
    "\n",
    "+ $c_1r_1[\\hat{x}_i(t) - x_i(t)]$ es la componente cognitiva, responsable de que la partícula tienda a moverse hacia la posición donde ha obtenido mejores resultados hasta el momento. El coeficiente cognitivo $c_1$ suele estar acotado en el rango [0, 2], siendo 2 el valor recomendado. $r_1$ es un vector de valores aleatorios entre 0 y 1 (un valor por cada dimensión) que aporta cierto comportamiento estocástico al movimiento de las partículas, mejorando así la capacidad de escapar de mínimos locales.\n",
    "<br><br>\n",
    "\n",
    "+ $c_2r_2[g(t) - x_i(t)]$ es la componente social, responsable de que la partícula tienda a moverse hacia la mejor posición encontrada por el enjambre hasta el momento. Puede interpretarse como el \"conocimiento colectivo\". El valor del coeficiente social $c_2$ suele estar acotado en el rango [0, 2], siendo 2 el valor recomendado. $r_2$ es un vector de valores aleatorios entre 0 y 1 (un valor por cada dimensión) que aporta cierto comportamiento estocástico al movimiento de las partículas, mejorando así la capacidad de escapar de mínimos locales.\n",
    "<br><br>\n",
    "\n",
    "+ La magnitud relativa entre la componente cognitiva y la componente social permite regular el comportamiento exploratorio del algoritmo. Cuanto mayor es el valor de $c_1$ respecto a $c_2$, mayor independencia de movimiento tiene cada partícula, lo que permite mayor exploración pero mayor lentitud en la convergencia. Por el contrario, cuanto mayor es el valor de $c_2$ respecto a $c_1$, más obligadas están las partículas a moverse hacia la mejor región encontrada hasta el momento, lo que reduce la exploración pero acelera la convergencia.\n",
    "<br><br>\n",
    "\n",
    "+ En algunas versiones del algoritmo, $r_1$ y $r_2$ son escalares en lugar de vectores. Multiplicar cada componente de la velocidad por un valor aleatorio distinto añade mayores fluctuaciones al movimiento de las partículas, lo que, aun a riesgo de retrasar la convergencia, suele generar mejores resultados.\n",
    "\n",
    "Una vez calculada la nueva velocidad, se puede actualizar la posición de la partícula con la ecuación:\n",
    "\n",
    "$$x_i(t+1) = x_i(t) + v_i(t+1)$$\n",
    "<br>\n",
    "\n",
    "Uno de los principales problemas del algoritmo *PSO* es que las partículas suelen adquirir velocidades excesivamente altas, lo que les lleva a salirse de los límites del espacio de búsqueda o a que sean incapaces de converger en la región óptima. Es en este paso del algoritmo donde más investigaciones y adaptaciones se han hecho. Algunas de las soluciones son:\n",
    "\n",
    "+ Limitar la velocidad máxima que puede alcanzar una partícula. Siendo [$x_{min}$, $x_{max}$] los límites inferior y superior del espacio de búsqueda de cada variable, la velocidad máxima que puede alcanzar la partícula en esa dirección es $v_{max} = k(x_{max} - x_{min})/2$, donde $k$ suele ser un valor entre 0.1 y 1.\n",
    "<br><br>\n",
    "\n",
    "+ Si el valor de alguna de las variables excede los límites impuestos, se sobrescribe con el valor del límite correspondiente y se reinicia su velocidad a cero. \n",
    "<br><br>\n",
    "\n",
    "+ Reducción lineal del coeficiente de inercia $w$. Esta estrategia consiste en ir reduciendo el coeficiente de inercia a medida que avanzan las iteraciones. En las primeras iteraciones, las partículas tiene mucha capacidad de exploración y, a medida que avanza el proceso, va reduciéndose su velocidad favoreciendo la convergencia. Puede conseguirse este efecto con la ecuación:\n",
    "\n",
    "$$w_t = (w_{max} - w_{min}) \\frac{t_{max} -t}{t_{max}} + w_{min}$$\n",
    "\n",
    "donde:\n",
    "\n",
    "+ $w_{t}$: coeficiente de inercia en la iteración $t$.\n",
    "+ $w_{max}$: coeficiente de inercia máximo. Valor con el que se inicia el algoritmo. Valor recomendado de 0.9.\n",
    "+ $w_{min}$: coeficiente de inercia mínimo. Valor que se alcanza en la última iteración. Valor recomendado de 0.4.\n",
    "+ $t_{max}$: número máximo de iteraciones.\n",
    "<br><br>\n",
    "\n",
    "La siguiente función actualiza la posición de una partícula teniendo en cuenta su posición y velocidad actual, la mejor posición global encontrada por el enjambre, los coeficientes de inercia, cognitivo, social, y los límites de búsqueda.\n",
    "\n",
    "<img style=\"float: center;;\" src='Figures/swarm.gif' width=\"1000\" height=\"100\"/>"
   ]
  },
  {
   "cell_type": "markdown",
   "id": "37b686e2",
   "metadata": {},
   "source": [
    "### Implementación"
   ]
  },
  {
   "cell_type": "code",
   "execution_count": null,
   "id": "b24c97cb",
   "metadata": {},
   "outputs": [],
   "source": []
  },
  {
   "cell_type": "markdown",
   "id": "f169a312",
   "metadata": {},
   "source": [
    "### Ejemplo1"
   ]
  },
  {
   "cell_type": "markdown",
   "id": "5af68c94",
   "metadata": {},
   "source": [
    "### Ejemplo 2"
   ]
  },
  {
   "cell_type": "code",
   "execution_count": null,
   "id": "f39c7309",
   "metadata": {},
   "outputs": [],
   "source": []
  },
  {
   "cell_type": "markdown",
   "id": "29d8359b",
   "metadata": {},
   "source": [
    "### Ejercicio"
   ]
  },
  {
   "cell_type": "code",
   "execution_count": null,
   "id": "b76cfdb8",
   "metadata": {},
   "outputs": [],
   "source": []
  },
  {
   "cell_type": "code",
   "execution_count": null,
   "id": "cbc1a1d9",
   "metadata": {},
   "outputs": [],
   "source": []
  }
 ],
 "metadata": {
  "kernelspec": {
   "display_name": "Python 3",
   "language": "python",
   "name": "python3"
  },
  "language_info": {
   "codemirror_mode": {
    "name": "ipython",
    "version": 3
   },
   "file_extension": ".py",
   "mimetype": "text/x-python",
   "name": "python",
   "nbconvert_exporter": "python",
   "pygments_lexer": "ipython3",
   "version": "3.8.8"
  }
 },
 "nbformat": 4,
 "nbformat_minor": 5
}
