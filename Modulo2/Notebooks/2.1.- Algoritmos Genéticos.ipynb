{
 "cells": [
  {
   "cell_type": "markdown",
   "metadata": {},
   "source": [
    "<img style=\"float: left;;\" src='Figures/alinco.png' /></a>\n",
    "\n",
    "\n",
    "# <center> <font color= #000047> Módulo 2: Algoritmo Genéticos"
   ]
  },
  {
   "cell_type": "markdown",
   "metadata": {},
   "source": [
    "## Introducción\n",
    "\n",
    ">Los algoritmos genéticos son métodos de optimización heurística que, entre otras aplicaciones, pueden emplearse para encontrar el valor o valores que consiguen maximizar o minimizar una función.\n",
    "\n",
    "Su funcionamiento está inspirado en la [teoría evolutiva de selección natural](https://es.wikipedia.org/wiki/Selecci%C3%B3n_natural) propuesta por Darwin y Alfred Russel: los individuos de una población se reproducen generando nuevos descendientes, cuyas características, son combinación de las características de los progenitores (más ciertas mutaciones). De todos ellos, únicamente los mejores individuos sobreviven y pueden reproducirse de nuevo, transmitiendo así sus características a las siguientes generaciones.\n",
    "\n",
    "> *El método de algoritmo genético es solo una de las muchas estrategias de optimización heurística que existen, una alternativa común es el método de enjambre de partículas.\n",
    "\n",
    "> *La optimización heurística no tiene por qué ser la forma de optimización más adecuada en todos los escenarios. Si el problema en cuestión puede optimizarse de forma analítica, suele ser más adecuado resolverlo de esta forma.*\n",
    "\n",
    "> *La implementación de algoritmo que se muestra en este documento pretende ser lo más explicativa posible aunque para ello no sea la más eficiente.*\n"
   ]
  },
  {
   "cell_type": "markdown",
   "metadata": {},
   "source": [
    "## Algoritmo \n",
    "\n",
    "Aunque existen variaciones, algunas de las cuales se describen a lo largo de este documento, en términos generales, la estructura de un algoritmo genético para optimizar (maximizar o minimizar) una función con una o múltiples variables sigue los siguientes pasos:\n",
    "\n",
    "\n",
    "1. Crear una población inicial aleatoria de $P$ individuos. En este caso, cada individuo representa una combinación de valores de las variables.\n",
    "<br><br>\n",
    "\n",
    "2. Calcular la fortaleza (*fitness*) de cada individuo de la población. El *fitness* está relacionado con el valor de la función objetivo para cada individuo. Si se quiere maximizar, cuanto mayor sea el valor de la función para el individuo, mayor su fitness. En el caso de minimización, ocurre lo contrario.\n",
    "<br><br>\n",
    "\n",
    "3. Crear una nueva población vacía y repetir los siguientes pasos hasta que se hayan creado $P$ nuevos individuos.\n",
    "\n",
    "    - Seleccionar dos individuos de la población existente, donde la probabilidad de selección es proporcional al *fitness* de los individuos.\n",
    "\n",
    "    - Cruzar los dos individuos seleccionados para generar un nuevo descendiente (*crossover*).\n",
    "\n",
    "    - Aplicar un proceso de mutación aleatorio sobre el nuevo individuo.\n",
    "\n",
    "    - Añadir el nuevo individuo a la nueva población.\n",
    "<br><br>\n",
    "\n",
    "4. Reemplazar la antigua población por la nueva.\n",
    "<br><br>\n",
    "\n",
    "5. Si no se cumple un criterio de parada, volver al paso 2.\n",
    "<br><br>\n",
    "\n"
   ]
  },
  {
   "cell_type": "markdown",
   "metadata": {},
   "source": [
    "### Población\n",
    "\n",
    "En el contexto de algoritmos genéticos, el término individuo hace referencia a cada una de las posibles soluciones del problema que se quiere resolver. En el caso de maximización o minimización de una función, cada individuo representa una posible combinación de valores de las variables. Para representar dichas combinaciones, se pueden emplear vectores, cuya longitud es igual al número total de variables, y cada posición toma un valor numérico. Por ejemplo, supóngase que la función objetivo $J(x,y,z)$ depende de las variables $x, y, z$. El individuo $3, 9.5, -0.5$, equivale a la combinación de valores $x = 3, y = 9.5, z = -0.5$.\n",
    "\n",
    "### Fitness\n",
    "\n",
    "Cada individuo de la población debe ser evaluado para cuantificar cómo de bueno es como solución al problema, a esta cuantificación se le llama  (*fitness*). Dependiendo de si se trata de un problema de maximización o minimización, la relación del *fitness* con la función objetivo $f$ puede ser:\n",
    "\n",
    "+ Maximización: el individuo tiene mayor *fitness* cuanto mayor es el valor de la función objetivo $f(individuo)$.\n",
    "<br><br>\n",
    "\n",
    "+ Minimización: el individuo tiene mayor *fitness* cuanto menor es el valor de la función objetivo $f(individuo)$, o lo que es lo mismo, cuanto mayor es el valor de la función objetivo, menor el *fitness*. Tal y como se describe más adelante, el algoritmo genético selecciona los individuos de mayor *fitness*, por lo que, para problemas de minimización, el *fitness* puede calcularse como $-f(individuo)$ o también $\\frac{1}{1+f(individuo)}$.\n",
    "<br><br>\n",
    "\n",
    "### Seleccionar individuos\n",
    "\n",
    "La forma en que se seleccionan los individuos que participan en cada cruce difiere en las distintas implementaciones de los algoritmos genéticos. Por lo general, todas ellas tienden a favorecer la selección de aquellos individuos con mayor *fitness*. Algunas de las estrategias más comunes son:\n",
    "\n",
    "+ Método de ruleta: la probabilidad de que un individuo sea seleccionado es proporcional a su *fitness* relativo, es decir, a su *fitness* dividido por la suma del *fitness* de todos los individuos de la población. Si el *fitness* de un individuo es el doble que el de otro, también lo será la probabilidad de que sea seleccionado. Este método presenta problemas si el *fitness* de unos pocos individuos es muy superior (varios órdenes de magnitud) al resto, ya que estos serán seleccionados de forma repetida y casi todos los individuos de la siguiente generación serán \"hijos\" de los mismos \"padres\" (poca variación).\n",
    "<br><br>\n",
    "\n",
    "+ Método *rank*: la probabilidad de selección de un individuo es inversamente proporcional a la posición que ocupa tras ordenar todos los individuos de mayor a menor *fitness*. Este método es menos agresivo que el método ruleta cuando la diferencia entre los mayores *fitness* es varios órdenes de magnitud superior al resto.\n",
    "<br><br>\n",
    "\n",
    "+ Selección competitiva (*tournament*): se seleccionan aleatoriamente dos parejas de individuos de la población (todos con la misma probabilidad). De cada pareja se selecciona el que tenga mayor *fitness*. Finalmente, se comparan los dos finalistas y se selecciona el de mayor *fitness*. Este método tiende a generar una distribución de la probabilidad de selección más equilibrada que las dos anteriores.\n",
    "<br><br>\n",
    "\n",
    "+ Selección truncada (*truncated selection*): se realizan selecciones aleatorias de individuos, habiendo descartado primero los *n* individuos con menor *fitness* de la población.\n",
    "\n",
    "### Cruzar dos individuos (*crossover*, recombinación)\n",
    "\n",
    "El objetivo de esta etapa es generar, a partir de individuos ya existentes (parentales), nuevos individuos (descendencia) que combinen las características de los anteriores. Este es otro de los puntos del algoritmo en los que se puede seguir varias estrategias. Tres de las más empleadas son:\n",
    "\n",
    "+ Cruzamiento a partir de uno solo punto: se selecciona aleatoriamente una posición que actúa como punto de corte. Cada individuo parental se divide en dos partes y se intercambian las mitades. Como resultado de este proceso, por cada cruce, se generan dos nuevos individuos.\n",
    "<br><br>\n",
    "\n",
    "+ Cruzamiento a partir múltiples puntos: se seleccionan aleatoriamente varias posiciones que actúan como puntos de corte. Cada individuo parental se divide por los puntos de corte y se intercambian las partes. Como resultado de este proceso, por cada cruce, se generan dos nuevos individuos.\n",
    "<br><br>\n",
    "\n",
    "+ Cruzamiento uniforme: el valor que toma cada posición del nuevo individuo se obtiene de uno de los dos parentales. Por lo general, la probabilidad de que el valor proceda de cada parental es la misma, aunque podría, por ejemplo, estar condicionada al *fitness* de cada uno. A diferencia de las anteriores estrategias, con esta, de cada cruce se genera un único descendiente.\n",
    "\n",
    "### Mutar individuo\n",
    "\n",
    "Tras generar cada nuevo individuo de la descendencia, este se somete a un proceso de mutación en el que, cada una de sus posiciones, puede verse modificada con una probabilidad $p$. Este paso es importante para añadir diversidad al proceso y evitar que el algoritmo caiga en mínimos locales por que todos los individuos sean demasiado parecidos de una generación a otra.\n",
    "\n",
    "Existen diferentes estrategias para controlar la magnitud del cambio que puede provocar una mutación.\n",
    "\n",
    "- Distribución uniforme: la mutación de la posición $i$ se consigue sumándole al valor de $i$ un valor extraído de una distribución uniforme, por ejemplo una entre [-1,+1].\n",
    "<br><br>\n",
    "\n",
    "- Distribución normal: la mutación de la posición $i$ se consigue sumándole al valor de $i$ un valor extraído de una distribución normal, comúnmente centrada en 0 y con una determinada desviación estándar. Cuanto mayor la desviación estándar, con mayor probabilidad la mutación introducirá cambios grandes.\n",
    "<br><br>\n",
    "\n",
    "- Aleatorio: la mutación de la posición $i$ se consigue reemplazando el valor de $i$ por nuevo valor aleatorio dentro del rango permitido para esa variable. Esta estrategia suele conllevar mayores variaciones que las dos anteriores.\n",
    "<br><br>\n",
    "\n",
    "Hay que tener en cuenta que, debido a las mutaciones, un valor que inicialmente estaba dentro del rango permitido puede salirse de él. Una forma de evitarlo es: si el valor tras la mutación excede alguno de los límites acotados, se sobrescribe con el valor del límite. Es decir, se permite que los valores se alejen como máximo hasta el límite impuesto."
   ]
  },
  {
   "cell_type": "markdown",
   "metadata": {},
   "source": [
    "### Ejemplo en Python"
   ]
  },
  {
   "cell_type": "markdown",
   "metadata": {},
   "source": [
    "### Inicialización\n",
    "\n",
    "El algoritmo generalmente comienza con la población generada aleatoriamente. El tamaño de la población depende de la naturaleza del problema. Podemos usar la codificación 0s y 1s. En este ejemplo usaremos números distribuidos uniformemente para representar cada gen."
   ]
  },
  {
   "cell_type": "code",
   "execution_count": null,
   "metadata": {},
   "outputs": [],
   "source": []
  },
  {
   "cell_type": "code",
   "execution_count": null,
   "metadata": {},
   "outputs": [],
   "source": []
  },
  {
   "cell_type": "markdown",
   "metadata": {},
   "source": [
    "Creamos un diccionario para almacenar la población, y cada individuo estrá asociado con sus cromosomas (posición) y un costo. La posición se llena con números (genes) distribuidos uniformemente generados aleatoriamente con un límite inferior -10 y un límite superior +10. El costo es la función de costo que estamos tratando de optimizar. En este ejemplo, optimizaremos la suma de los cuadrados de x, donde x es el gen individual de cada cromosoma."
   ]
  },
  {
   "cell_type": "code",
   "execution_count": null,
   "metadata": {},
   "outputs": [],
   "source": []
  },
  {
   "cell_type": "markdown",
   "metadata": {},
   "source": [
    "### Selección de Padres\n",
    "Durante cada generación sucesiva, se selecciona una parte de la población existente para criar una nueva generación. Las soluciones individuales se seleccionan a través de un proceso basado en la aptitud. Como estamos en la generación 0, no tenemos descendencia. Seleccionamos a los padres de nuestra población generada aleatoriamente. Existen tres métodos principales para definir los individuos que mejor se adaptan y seleccionarlos para la reproducción.\n",
    "\n",
    ">**Selección aleatoria:** Esta es la forma más simple e ineficiente de seleccionar a los padres. En este método, barajamos la población realizando una permutación y seleccionamos a los dos primeros individuos como progenitores para la reproducción. Este método no se recomienda porque no sigue la \"Teoría de la evolución de Darwin por selección natural\", en la que los individuos se seleccionan en función de su aptitud, no al azar.\n",
    "\n",
    ">**Torneo de selección:** Este método se basa en la probabilidad de selección de cada individuo. Realizamos varios torneos entre un grupo de individuos seleccionados al azar, seleccionamos un individuo de cada grupo como ganador y nuevamente realizamos el torneo agrupando a los ganadores de la primera iteración, repetimos el proceso hasta que converjamos en dos padres ganadores para la reproducción. El mejor miembro de cada grupo en cada iteración tiene la mayor probabilidad de selección.\n",
    "\n",
    ">**Selección de la rueda de la ruleta:** este es un método ampliamente utilizado y más eficiente para seleccionar a los padres; por lo tanto, lo usaremos hoy en nuestro algoritmo. Todos sabemos cómo funciona la rueda de la ruleta en los casinos, dejar caer la bola, girar la rueda y esperar hasta que la rueda se detenga para ver en qué bote cae la bola. Profundicemos en la parte de implementación.\n"
   ]
  },
  {
   "cell_type": "code",
   "execution_count": null,
   "metadata": {},
   "outputs": [],
   "source": [
    "# Selección aleatoria\n"
   ]
  },
  {
   "cell_type": "markdown",
   "metadata": {},
   "source": [
    "#### Slección por ruleta\n",
    "La única diferencia entre la rueda de la ruleta del casino y el método de la rueda de la ruleta para la selección de padres es que en la rueda de la ruleta del casino, cada bote tiene la misma probabilidad de retener la bola cuando la rueda deja de girar. Sin embargo, aquí definimos la probabilidad para cada bote (individuo de la población). La probabilidad de cada individuo se llama aptitud del individuo.\n",
    "\n",
    "Tenemos cuatro padres P1, P2, P3 y P4, con la probabilidad de ser seleccionados para reproducirse 0.1, 0.2, 0.3, 0.4, respectivamente. La flecha se fija en un lugar y la rueda gira. Cuando la rueda deja de girar, el progenitor al que apunta la flecha se elige para reproducirse; cuanto mayor sea la probabilidad, mayor será el área de la rueda, lo que dará lugar a una mayor probabilidad de ser seleccionado.\n",
    "\n",
    "Ahora, ¿cómo implementamos la rueda de la ruleta programáticamente? Abrimos la rueda en una línea uniforme y dividimos la línea en el número de padres en la población, y cada padre ocupa el espacio en la línea igual a su probabilidad de ser seleccionado, y cada punto de corte es la suma acumulada de probabilidad. Generar un número aleatorio entre 0 y 1 actuará como la flecha que selecciona al padre para reproducirse. Aquí, el número aleatorio es 0,28; por lo tanto, el ganador es P2.\n",
    "\n",
    "Para hacerlo aún más simple, calculamos la suma acumulada de probabilidad de cada padre, multiplicamos su suma con un número generado aleatoriamente. Luego obtenga el índice del primer padre cuyo valor acumulativo sea mayor que el número aleatorio. Por ejemplo, P1 tiene un valor acumulativo de 0,1, P2 tiene 0,3, P3 tiene 0,6 y P4 tiene 1. Si el número aleatorio generado es 0,28, entonces el primer padre cuyo valor acumulativo es mayor que 0,28 es P2, por lo tanto, el padre ganador para cría. La función argwhere() devuelve una matriz de verdaderos y falsos según la expresión pasada como parámetro."
   ]
  },
  {
   "cell_type": "code",
   "execution_count": null,
   "metadata": {},
   "outputs": [],
   "source": []
  },
  {
   "cell_type": "markdown",
   "metadata": {},
   "source": [
    "Calculamos la probabilidad de cada padre por el exponencial de beta negativo por costos, donde beta es un número entero predefinido y costos es el costo de cada padre dividido por el costo promedio de todos los padres en la población."
   ]
  },
  {
   "cell_type": "markdown",
   "metadata": {},
   "source": [
    "```\n",
    "# Calculating probability for roulette wheel selection\n",
    "beta = 1\n",
    "for i in range(len(population)):\n",
    "   # list of all the population cost\n",
    "   costs.append(population[i]['cost'])\n",
    "costs = np.array(costs)\n",
    "avg_cost = np.mean(costs)\n",
    "if avg_cost != 0:\n",
    "   costs = costs/avg_cost\n",
    "probs = np.exp(-beta*costs)\n",
    "```"
   ]
  },
  {
   "cell_type": "markdown",
   "metadata": {},
   "source": [
    "### Crossover\n",
    "\n",
    "Ahora que tenemos a nuestros dos padres para la reproducción, el siguiente paso es realizar el cruzamiento/apareamiento/reproducción. El cruce se refiere al proceso en el que ciertos genes de ambos cromosomas de los padres se superponen, se mezclan o se intercambian para producir una nueva descendencia. Dado que la descendencia es el resultado del cruce de los cromosomas de los padres, hereda las características de ambos padres. Hay tres métodos para realizar el cruce.\n",
    "\n",
    "> **Cruce de un solo punto:** en este método, ambos cromosomas principales se cortan en el mismo punto aleatorio y las partes sobrantes se intercambian para producir dos nuevos cromosomas descendientes. Los genes de color amarillo representan la parte de corte del cromosoma.\n",
    "\n",
    ">**Cruce de dos puntos:** un método similar al cruce de un solo punto, pero la única diferencia es que los cromosomas originales se cortan en dos puntos aleatorios. Nuevamente, la parte cortada de color amarillo del cromosoma se intercambia.\n",
    "\n",
    ">**Cruce uniforme:** primero elegimos aleatoriamente qué genes se supone que se heredan de los cromosomas de los padres y los genes que no se heredan se marcan en color amarillo. Luego, los modelamos como 0 y 1, que se escriben en color verde. El gen que se hereda se codifica como 1, y el gen que no se debe heredar se codifica como 0. Esta serie de 0 y 1 se denominará alfa de ahora en adelante. Multiplique el valor del gen con el valor alfa correspondiente para ambos padres y luego sume los resultados para generar un solo gen del cromosoma descendiente. Consideremos el primer gen de cada cromosoma padre. Para el padre-1, el valor del gen es 1 y el valor alfa correspondiente también es 1; por lo tanto, 1x1=1. Para el padre-2, el valor del gen es 0 y el valor alfa correspondiente también es 0, por lo tanto, 0x0=0. El primer gen del cromosoma de la descendencia es 1+0=1, y así sucesivamente; de ​​esta manera, obtenemos la descendencia-1, para reproducir la descendencia-2, tomamos los valores complementarios de alfa y llevamos a cabo el mismo proceso."
   ]
  },
  {
   "cell_type": "markdown",
   "metadata": {},
   "source": [
    "Mediante programación, copiamos ambos padres en la variable secundaria: c1, c2. Genere aleatoriamente valores alfa distribuidos uniformemente entre 0 y 1, que es la forma (posición) del cromosoma principal. El resto del proceso sigue siendo el mismo, excepto que, en teoría, tomamos el complemento de valores alfa para producir descendencia-2, mientras que, en el programa, intercambiamos los padres mientras multiplicamos con alfa, que es lo mismo que tomar el complemento de valores alfa."
   ]
  },
  {
   "cell_type": "code",
   "execution_count": null,
   "metadata": {},
   "outputs": [],
   "source": []
  },
  {
   "cell_type": "markdown",
   "metadata": {},
   "source": [
    "### Mutación\n",
    "La mutación es un proceso natural que ocurre debido a un error en la replicación o copia de genes. Mientras realizamos el cruce, replicamos los cromosomas de los padres mediante la combinación de genes de ambos padres. No hay garantía de que la copia del gen original sea 100 % precisa. Siempre ocurre un error, lo que conduce al alcance de la exploración. Por ejemplo, si ambos padres tienen ojos marrones y ojos azules, probablemente se deba a una mutación que ocurrió debido a un error al copiar los genes de sus padres, y su generación posterior podría transmitir esa característica.\n",
    "\n",
    "La mutación del cromosoma en el algoritmo genético es necesaria porque puede generar resultados revolucionarios que ayudarán a resolver nuestro problema de manera más eficiente. Entonces, tenemos tres parámetros: el cromosoma hijo (c), la tasa de mutación (mu) y el tamaño del paso (sigma). La tasa de mutación (mu) determina el porcentaje del cromosoma infantil que sufre mutación.\n",
    "\n",
    "Para definir qué genes se mutarán, generamos números aleatorios y los comparamos con la tasa de mutación, luego encontramos los índices del cromosoma hijo (posición) que tienen valores menores que la tasa de mutación usando la función argwhere(). Reemplace esos índices con genes nuevos (mutados) generados al multiplicar el tamaño de paso (sigma) con un valor generado aleatoriamente y agregarlo al gen original.\n"
   ]
  },
  {
   "cell_type": "code",
   "execution_count": null,
   "metadata": {},
   "outputs": [],
   "source": []
  },
  {
   "cell_type": "markdown",
   "metadata": {},
   "source": [
    "### Evaluando la Descendencia\n",
    "\n",
    "Una vez que los descendientes experimentan la mutación, debemos evaluarlos con la función de costo para definir su aptitud. Además, reemplace la mejor solución en cada generación/iteración."
   ]
  },
  {
   "cell_type": "markdown",
   "metadata": {},
   "source": [
    "```\n",
    "# Evaluate first off spring\n",
    "# calculate cost function of child 1\n",
    "c1['cost'] = costfunc(c1['position'])\n",
    "if type(bestsol_cost) == float:\n",
    "  # replacing best solution in every generation/iteration\n",
    "  if c1['cost'] < bestsol_cost:\n",
    "    bestsol_cost = copy.deepcopy(c1)\n",
    "else:\n",
    "   # replacing best solution in every generation/iteration\n",
    "   if c1['cost'] < bestsol_cost['cost']:\n",
    "     bestsol_cost = copy.deepcopy(c1)\n",
    "# Evaluate second off spring\n",
    "if c2['cost'] < bestsol_cost['cost']:\n",
    "bestsol_cost = copy.deepcopy(c2)\n",
    "```"
   ]
  },
  {
   "cell_type": "markdown",
   "metadata": {},
   "source": [
    "### Fusionar descendientes con la población principal y ordenar\n",
    "\n",
    "La fusión de los descendientes es vital para que sean considerados como padres para reproducir la próxima generación. Al clasificar la nueva población, tenemos mejores individuos en la parte superior. Dado que el tamaño de la población sigue siendo el mismo que en la primera iteración (npop), el número de individuos en la parte inferior de la población clasificada igual al número de nuevos descendientes producidos en la iteración anterior se eliminan del proceso de selección para criar nuevos descendientes, y el proceso continúa: así es como se lleva a cabo el proceso de eliminación."
   ]
  },
  {
   "cell_type": "code",
   "execution_count": null,
   "metadata": {},
   "outputs": [],
   "source": []
  },
  {
   "cell_type": "code",
   "execution_count": null,
   "metadata": {},
   "outputs": [],
   "source": []
  },
  {
   "cell_type": "markdown",
   "metadata": {},
   "source": [
    "### Función principal para AG"
   ]
  },
  {
   "cell_type": "code",
   "execution_count": null,
   "metadata": {},
   "outputs": [],
   "source": []
  },
  {
   "cell_type": "markdown",
   "metadata": {},
   "source": [
    "### Ejemplo 1"
   ]
  },
  {
   "cell_type": "code",
   "execution_count": null,
   "metadata": {},
   "outputs": [],
   "source": []
  },
  {
   "cell_type": "markdown",
   "metadata": {},
   "source": [
    "### Ejemplo 2:"
   ]
  },
  {
   "cell_type": "code",
   "execution_count": null,
   "metadata": {},
   "outputs": [],
   "source": []
  },
  {
   "cell_type": "markdown",
   "metadata": {},
   "source": [
    "### Ejemplo 3:"
   ]
  },
  {
   "cell_type": "code",
   "execution_count": null,
   "metadata": {},
   "outputs": [],
   "source": []
  }
 ],
 "metadata": {
  "kernelspec": {
   "display_name": "Python 3",
   "language": "python",
   "name": "python3"
  },
  "language_info": {
   "codemirror_mode": {
    "name": "ipython",
    "version": 3
   },
   "file_extension": ".py",
   "mimetype": "text/x-python",
   "name": "python",
   "nbconvert_exporter": "python",
   "pygments_lexer": "ipython3",
   "version": "3.8.8"
  }
 },
 "nbformat": 4,
 "nbformat_minor": 2
}
