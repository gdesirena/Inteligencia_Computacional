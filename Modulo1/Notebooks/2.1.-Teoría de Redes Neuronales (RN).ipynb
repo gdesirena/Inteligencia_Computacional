{
 "cells": [
  {
   "cell_type": "markdown",
   "metadata": {},
   "source": [
    "<img style=\"float: left;;\" src='Figures/alinco.png' /></a>\n",
    "\n",
    "# <center> <font color= #000047> Módulo 1: Teoría de Redes Neuronales\n",
    "\n"
   ]
  },
  {
   "cell_type": "markdown",
   "metadata": {},
   "source": [
    "## Introducción"
   ]
  },
  {
   "cell_type": "markdown",
   "metadata": {},
   "source": [
    "Las redes neuronales artificiales (RNA) constituyen un paradigma de computación inspirado en las <a href=\"https://es.wikipedia.org/wiki/Neurona\">neuronas</a> biológicas y su interconexión. Las neuronas biológicas son células compuestas principalmente de tres partes: soma (cuerpo celular), dendritas (canales de entrada) y axón (canal de salida). Descrito de una forma muy simplificada, las neuronas transmiten información a través de procesos electroquímicos. Cuando una neurona recibe, a través de las denritas, una cantidad de estímulos mayor a un cierto umbral, ésta se despolariza excitando, a través del axón, a otras neuronas próximas conectadas a través de las sinapsis.\n",
    "\n",
    "<img src=\"Figures/neurona.jpg\" width=\"70%\">\n",
    "\n",
    "## La neurona artificial\n",
    "\n",
    "Inspirados por esta idea se concibió el modelo de <a href=\"https://es.wikipedia.org/wiki/Neurona_de_McCulloch-Pitts\">neurona artificial</a>. Fundamentalmente, consiste en una unidad de cálculo que admite como entrada un vector de características $\\vec{x}$ cuyos valores se suman de forma ponderada mediante unos pesos $\\vec{w}$ y, si esta suma supera un cierto umbral $\\theta$, genera un cierto valor de salida, por ejemplo $1$ y, si no lo supera, genera otro valor, por ejemplo, un $0$. Cuando la neurona está sola, es decir, no conectada a otras conformando una red, actúa como un clasificador lineal. \n",
    "\n",
    "<img src=\"Figures/neurona_artificial.png\" width=\"40%\">\n",
    "\n",
    "La expresión más básica de la neurona artificial es la siguiente:\n",
    "\n",
    "$$\n",
    "y=f(\\textbf{x}) = \\begin{cases} \\textrm{1, si} \\sum_{i=1}^{n} {w_i  x_i} \\geq \\theta \\\\ \\\\ 0, \\textrm{en caso contrario} \\end{cases}\n",
    "$$\n",
    "\n"
   ]
  },
  {
   "cell_type": "markdown",
   "metadata": {},
   "source": [
    "## El Perceptrón como clasificador lineal\n",
    "\n",
    "Volvamos de nuevo a la definición de neurona articial y veamos qué relación tiene con los problemas de clasificación lineal. Recordemos su expresión como la vimos arriba, pero vamos a modificarla ligeramente moviendo $\\theta$ a la izquierda del símbolo \"mayor o igual\", de esta manera:\n",
    "\n",
    "$$\n",
    "g(\\textbf{e}) = \\begin{cases} \\textrm{1, si} \\sum_{i=1}^{n} {w_i  e_i} - \\theta\\geq 0 \\\\ \\\\ 0, \\textrm{en caso contrario} \\end{cases}\n",
    "$$\n",
    "\n",
    "Si queremos, podemos visualizar gráficamente la neurona de esta manera:\n",
    "\n",
    "<img src=\"Figures/model.svg\" width=\"70%\">"
   ]
  },
  {
   "cell_type": "markdown",
   "metadata": {},
   "source": [
    "## Funciones de activación comunes"
   ]
  },
  {
   "cell_type": "markdown",
   "metadata": {},
   "source": [
    "## 1. Sigmoide o función logística\n",
    "\n",
    "$$\\sigma(x) = \\frac{1}{1 + e^{-x}}$$\n",
    "\n",
    "This functions will squash every input to [0, 1]"
   ]
  },
  {
   "cell_type": "code",
   "execution_count": null,
   "metadata": {},
   "outputs": [],
   "source": []
  },
  {
   "cell_type": "markdown",
   "metadata": {},
   "source": [
    "## Problema con la función sigmoide:\n",
    "#### 1. Vanishing gradient\n",
    "En la figura anterior, cuando la salida está cerca de 0 y 1, la derivada es casi cero. Lo que significa que, durante la retropropagación, los pesos se actualizarán muy, muy lentamente, casi insignificante, por lo tanto, el aprendizaje será casi nulo. Así que los pesos iniciales no cambiarán tanto de los que se han elegido.\n",
    "\n",
    "Si se observa la derivada de sigmoide, el valor máximo es 0,25. Por lo tanto, cada gradiente se reducirá al menos al 25% de su valor (en el peor de los casos, 0) y, por lo tanto, en una red profunda, se pierde más conocimiento. Los gradientes que se propagan a las capas superficiales (capas cercanas a la capa de entrada) no serán tan significativos para actualizar los pesos.\n",
    "\n",
    "#### 2. Not zero-centered\n",
    "En el algoritmo de propagación:\n",
    "\n",
    "$$f=\\sum w_ix_i+b$$ $$\\frac{df}{dw_i}=x_i$$ $$\\frac{dL}{dw_i}=\\frac{dL}{df}\\frac{df}{dw_i}=\\frac{dL}{df}x_i$$\n",
    "\n",
    "porque $x_i>0$, el gradientet $\\dfrac{dL}{dw_i}$ siempre tiene el mismo signo $\\dfrac{dL}{df}$ (todos positivos o todos negativos).\n",
    "\n",
    "Por lo tanto, si hay un peso que debe actualizarse en positivo y otro en negativo, eso no sucederá y tardará en converger.\n",
    "\n",
    "#### 3. Computationally expensive\n",
    "El cálculo del sigmoide es computacionalmente costoso\n"
   ]
  },
  {
   "cell_type": "markdown",
   "metadata": {},
   "source": [
    "## 2. Tangente Hiperbólica\n",
    "\n",
    "$$f = tanh(x)$$\n",
    "\n",
    "La salida se limita a [-1, 1]. Esta función es casi la misma que la función sigmoide, pero está centrada en cero, por lo tanto, es mejor que la función sigmoide.\n",
    "\n",
    "Además, tanh es solo una versión escalada de la sigmoide:\n",
    "\n",
    "$$tanh(x) = 2\\sigma(2x) - 1$$"
   ]
  },
  {
   "cell_type": "code",
   "execution_count": null,
   "metadata": {},
   "outputs": [],
   "source": []
  },
  {
   "cell_type": "markdown",
   "metadata": {},
   "source": [
    "## 3. Rectified Linear Unit (ReLU)\n",
    "\n",
    "$$f(x) = max(0, x)$$\n",
    "\n",
    "ReLU es una de las funciones de activación más utilizadas que tiene muchas ventajas:\n",
    "\n",
    "#### 1. Resuelve el problema del vanishing gradient \n",
    "ReLU no sufre el problema del gradiente de fuga ya que las pendientes son arbitrarias con respecto a las entradas\n",
    "\n",
    "#### 2. Computacionalmente barato y simple de implementar\n",
    "ReLU no involucra ninguna operación matemática y simplemente reemplaza x < 0 con 0.\n",
    "\n",
    "### Problema con la ReLU\n",
    "\n",
    "#### Problema Dying ReLU  \n",
    "\n",
    "Debido a la naturaleza de ReLU, si un gradiente se propaga a la entrada, la red puede llegar a un estado en el que el sesgo sea muy bajo (negativo) y, por lo tanto, la salida de ReLU será 0 sin importar la entrada. Y dado que el gradiente de 0 es 0, la red no se recuperará de este estado y permanecerá siempre igual.\n"
   ]
  },
  {
   "cell_type": "code",
   "execution_count": null,
   "metadata": {},
   "outputs": [],
   "source": []
  },
  {
   "cell_type": "markdown",
   "metadata": {},
   "source": [
    "## 4. Leaky ReLU\n",
    "\n",
    "$$f_r(x) = max(\\alpha x, x)$$\n",
    "\n",
    "Leaky ReLU tiene como objetivo resolver el problema de Dying ReLU agregando un pequeño valor alfa a los valores negativos. Por tanto, el gradiente sobre los valores negativos será alpa y la red podrá recuperarse."
   ]
  },
  {
   "cell_type": "code",
   "execution_count": null,
   "metadata": {},
   "outputs": [],
   "source": []
  },
  {
   "cell_type": "markdown",
   "metadata": {},
   "source": [
    "### Regla de aprendizaje\n",
    "\n",
    "- En las RNA se considera que el conocimiento se encuentra representado en los pesos de las conexiones.\n",
    "\n",
    "- El proceso de aprendizaje se basa en cambios en estos pesos.\n",
    "\n",
    "### Formas de conexión entre neuronas\n",
    "\n",
    "- Las salidas de las neuronas se convierten en entradas de otras neuronas.\n",
    "- Cuando ninguna salida de las neuronas es entrada de neuronas del mismo nivel o de niveles precedentes, la red se describe como propagación hacia adelante (feedforward).\n",
    "\n",
    "- En caso contrario la red se describe como propagación hacia atrás (feedback).\n",
    "\n",
    "### Características de las RNA\n",
    "\n",
    ">Topología\n",
    "\n",
    "- Número de capas.\n",
    "\n",
    "- Número de neuronas por capa.\n",
    "\n",
    "- Tipo de conexiones. Normalmente, todas las neuronas de una capa reciben señales de la capa anterior (más cercana a la entrada) y envían su salida a las neuronas de la capa posterior (más cercana a la salida de la red).\n",
    "\n",
    ">Tipos de aprendizaje"
   ]
  },
  {
   "cell_type": "markdown",
   "metadata": {},
   "source": [
    "### Redes feedforward\n",
    "\n",
    "La más conocidas son:\n",
    "- perceptron\n",
    "- Adaline\n",
    "- Madaline\n",
    "- Backpropagation\n",
    "\n",
    "útilies en aplicaciones de reconocimiento o clasificación de patrones."
   ]
  },
  {
   "cell_type": "markdown",
   "metadata": {},
   "source": [
    "### Cómo funciona una red neuronal\n",
    "\n",
    "<img src=\"Figures/red_pesos.png\" width=\"50%\">\n",
    "\n",
    "Las redes neuronales se modelan como colecciones de neuronas que están conectadas en un gráfico acíclico. En otras palabras, las salidas de algunas neuronas pueden convertirse en entradas para otras neuronas. Los ciclos no están permitidos ya que eso implicaría un bucle infinito en el paso hacia adelante de una red. Los modelos de redes neuronales a menudo se organizan en distintas capas de neuronas.\n",
    "\n",
    "Para las redes neuronales regulares, el tipo de capa más común es el **fully connected layer** en donde las neuronas entre dos capas adyacentes están completamente conectadas por pares, pero las neuronas dentro de una sola capa no comparten conexiones\n",
    "\n",
    "<img src=\"Figures/RAN_layers.png\" width=\"80%\">\n",
    "\n",
    "**Capa de salida**. A diferencia de todas las capas de una red neuronal, las neuronas comúnmente no tienen una función de activación (o se puede pensar que tienen una función de activación lineal). Esto se debe a que la última capa de salida se\n",
    "toma para representar los scores de clase (por ejemplo, en la clasificación), o pueden ser números reales (por ejemplo, en regresión)"
   ]
  },
  {
   "cell_type": "markdown",
   "metadata": {},
   "source": [
    "### Cómo aprende una red neuronal\n",
    "\n",
    ">Por lo general, un modelo de red neuronal se entrena utilizando el Pesos y algoritmo de optimización de descenso de gradiente estocástico se actualizan usando el algoritmo backpropagation del error\n",
    "\n",
    ">El \"gradiente\" en el algoritmo de gradiente descendente se refiere a un gradiente de error. El modelo con un conjunto dado de pesos se utiliza para hacer predicciones y se calcula el error de esas predicciones.\n",
    "\n",
    ">El algoritmo de gradiente descendente busca cambiar los pesos para que la próxima iteración de tal forma que se reduzca el error, lo que significa que el algoritmo de optimización está navegando hacia abajo en el gradiente (o pendiente) del error.\n",
    "\n",
    "<img src=\"Figures/gradient_descent.png\" width=\"80%\">"
   ]
  },
  {
   "cell_type": "markdown",
   "metadata": {},
   "source": [
    "#### Función de coste (loss function)\n",
    "\n",
    "\n",
    "La función de coste ( $l$ ), también llamada función de pérdida, loss function o cost function, es la encargada de cuantificar la distancia entre el valor real y el valor predicho por la red, en otras palabras, mide cuánto se equivoca la red al realizar predicciones. En la mayoría de casos, la función de coste devuelve valores positivos. Cuanto más próximo a cero es el valor de coste, mejor son las predicciones de la red (menor error), siendo cero cuando las predicciones se corresponden exactamente con el valor real.\n",
    "\n",
    "La función de coste puede calcularse para una única observación o para un conjunto de datos (normalmente promediando el valor de todas las observaciones). El segundo caso, es el que se utiliza para dirigir el entrenamiento de los modelos.\n",
    "\n",
    "Dependiendo del tipo de problema, regresión o clasificación, es necesario utilizar una función de coste u otra. En problemas de regresión, las más utilizadas son el error cuadrático medio y el error absoluto medio. En problemas de clasificación suele emplearse la función log loss, también llamada logistic loss o cross-entropy loss.\n",
    "\n",
    "\n",
    "#### Error cuadrático medio\n",
    "\n",
    "El error cuadrático medio (mean squared error, MSE) es con diferencia la función de coste más utilizada en problemas de regresión. Para una determinada observación  i , el error cuadrático se calcula como la diferencia al cuadrado entre el valor predicho  y^  y el valor real  y .\n",
    "\n",
    "$$l^{(i)}(w,b)=(\\hat{y}^{(i)}−y^{(i)})^2$$\n",
    " \n",
    "Las funciones de coste suelen escribirse con la notación  $l(w,b)$  para hacer referencia a que su valor depende de los pesos y bias del modelo, ya que son estos los que determinan el valor de las predicciones  $y(i)$ .\n",
    "\n",
    "Con frecuencia, esta función de coste se encuentra multiplicada por  1/2 , esto es simplemente por conveniencia matemática para simplificar el cálculo de su derivada.\n",
    "\n",
    "$$l^{(i)}(w,b)=\\frac{1}{2}( )^2$$\n",
    " \n",
    "Para cuantificar el error que comete el modelo todo un conjunto de datos, por ejemplo los de entrenamiento, simplemente se promedia el error de todas las  $N$  observaciones.\n",
    "\n",
    "$$L(w,b)=\\frac{1}{n}\\sum_{i=1}^n l^{(i)}(w,b)= \\frac{1}{n}\\sum_{i=1}^n (\\hat{y}^{(i)}−y^{(i)})^2$$\n",
    " \n",
    "Cuando un modelo se entrena utilizando el error cuadrático medio como función de coste, está aprendiendo a predecir la media de la variable respuesta.\n",
    "\n",
    "#### Error medio absoluto\n",
    "\n",
    "El error medio absoluto (mean absolute error, MAE) consiste en promediar el error absoluto de las predicciones.\n",
    "\n",
    "$$L(w,b)= \\frac{1}{n}\\sum_{i=1}^n |\\hat{y}^{(i)}−y^{(i)}|$$\n",
    " \n",
    "El error medio absoluto es más robusto frente a outliers que el error cuadrático medio. Esto significa que el entrenamiento del modelo se ve menos influenciado por datos anómalos que pueda haber en el conjunto de entrenamiento. Cuando un modelo se entrena utilizando el error absoluto medio como función de coste, está aprendiendo a predecir la mediana de la variable respuesta.\n",
    "\n",
    "#### Log loss, logistic loss o cross-entropy loss\n",
    "\n",
    "En problemas de clasificación, la capa de salida utiliza como función de activación la función softmax. Gracias a esta función, la red devuelve una serie de valores que pueden interpretarse como la probabilidad de que la observación predicha pertenezca a cada una de las posibles clases.\n",
    "\n",
    "Cuando la clasificación es de tipo binaria, donde la variable respuesta es 1 o 0, y  $p=Pr(y=1)$ , la función de coste log-likelihood se define como:\n",
    "\n",
    "$$L_{log}(y,p)=−logPr(y|p)=−(ylog(p)+(1−y)log(1−p))$$\n",
    " \n",
    "Para problemas de clasificación con más de dos clases, esta fórmula se generaliza a:\n",
    "\n",
    "$$L_{log}(Y,P)=−logPr(Y|P)=−\\frac{1}{N} \\sum_{i=0}^{N-1}  \\sum_{i=0}^{K-1} y_{i,k}log p_{i,k}$$\n",
    " \n",
    "En ambos casos, minimizar esta la función equivale a que la probabilidad predicha para la clase correcta tienda a 1, y a 0 en las demás clases.\n",
    "\n",
    "Dado que esta función se ha utilizado en campos diversos, se le conoce por nombres distintos: Log loss, logistic loss o cross-entropy loss, pero todos hacen referencia a lo mismo. Puede encontrarse una explicación más detallada de esta función de coste aquí.\n",
    "\n",
    "### Múltiples capas\n",
    "\n",
    "El modelo de red neuronal con una única capa (single-layer perceptron), aunque supuso un gran avance en el campo del machine learning, solo es capaz de aprender patrones sencillos. Para superar esta limitación, los investigadores descubrieron que, combinando múltiples capas ocultas, la red puede aprender relaciones mucho más complejas entre los predictores y la variable respuesta. A esta estructura se le conoce como perceptrón multicapa o multilayer perceptron (MLP), y puede considerarse como el primer modelo de deep learning.\n",
    "\n",
    "La estructura de un perceptón multicapa consta de varias capas de neuronas ocultas. Cada neurona está conectada a todas las neuronas de la capa anterior y a las de la capa posterior. Aunque no es estrictamente necesario, todas las neuronas que forman parte de una misma capa suelen emplear la misma función de activación.\n",
    "\n",
    "Combinando múltiples capas ocultas y funciones de activación no lineales, los modelos de redes pueden aprender prácticamente cualquier patrón. De hecho, está demostrado que, con suficientes neuronas, un MLP es un aproximador universal para cualquier función.\n",
    "\n",
    "red neuronal feed-forward (multi-layer perceptron):\n",
    "<img src=\"Figures/multilayer.png\" width=\"60%\">\n",
    "\n",
    "### Entrenamiento\n",
    "\n",
    "El proceso de entrenamiento de una red neuronal consiste en ajustar el valor de los pesos y bías de tal forma que, las predicciones que se generen, tengan el menor error posible. Gracias a esto, el modelo es capaz de identificar qué predictores tienen mayor influencia y de qué forma están relacionados entre ellos y con la variable respuesta.\n",
    "\n",
    "La idea intuitiva de cómo entrenar una red neuronal es la siguiente:\n",
    "\n",
    ">Iniciar la red con valores aleatorios de los pesos y bias.\n",
    "\n",
    ">Para cada observación de entrenamiento $( X ,  y )$, calcular el error que comete la red al hacer sus predicciones. Promediar los errores de todas las observaciones.\n",
    "\n",
    ">Identificar la responsabilidad que ha tenido cada peso y bias en el error de la predicción.\n",
    "\n",
    ">Modificar ligeramente los pesos y bias de la red (de forma proporcional a su responsabilidad en el error) en la dirección correcta para que se reduzca el error.\n",
    "\n",
    "Repetir los pasos 2, 3, 4 y 5 hasta que la red sea suficientemente buena.\n",
    "\n",
    "Si bien la idea parece sencilla, alcanzar una forma de implementarla ha requerido la combinación de múltiples métodos matemáticos, en concreto, el algoritmo de retropropagación (backpropagation) y la optimización por descenso de gradiente (gradient descent).\n",
    "\n",
    "### Backpropagation\n",
    "\n",
    "\n",
    "Backpropagation es el algoritmo que permite cuantificar la influencia que tiene cada peso y bias de la red en sus predicciones. Para conseguirlo, hace uso de la regla de la cadena (chain rule) para calcular el gradiente, que no es más que es el vector formado por las derivadas parciales de una función.\n",
    "\n",
    "En el caso de las redes, la derivada parcial del error respecto a un parámetro (peso o bias) mide cuanta \"responsabilidad\" ha tenido ese parámetro en el error cometido. Gracias a esto, se puede identificar qué pesos de la red hay que modificar para mejorarla. El siguiente paso necesario, es determinar cuánto y cómo modificarlos (optimización).\n",
    "\n",
    "\n",
    "### Descenso de gradiente\n",
    "\n",
    "\n",
    "Descenso de gradiente (gradient descent) es un algoritmo de optimización que permite minimizar una función haciendo actualizaciones de sus parámetros en la dirección del valor negativo de su gradiente. Aplicado a las redes neuronales, el descenso de gradiente permite ir actualizando los pesos y bías del modelo para reducir su error.\n",
    "\n",
    "Dado que, calcular el error del modelo para todas las observaciones de entrenamiento, en cada iteración, puede ser computacionalmente muy costoso, existe una alternativa al método de descenso de gradiente llamada gradiente estocástico (stochastic gradient descent, SGD). Este método consiste en dividir el conjunto de entrenamiento en lotes (minibatch o batch) y actualizar los parámetros de la red con cada uno. De esta forma, en lugar de esperar a evaluar todas las observaciones para actualizar los parámetros, se pueden ir actualizando de forma progresiva. Una ronda completa de iteraciones sobre todos los batch se llama época. El número de épocas con las que se entrena una red equivale al número de veces que la red ve cada ejemplo de entrenamiento.\n",
    "\n",
    "\n",
    "### Preprocesado\n",
    "\n",
    "\n",
    "A la hora de entrenar modelos basados en redes neuronales, es necesario realizar, al menos, dos tipos de transformaciones de los datos.\n",
    "\n",
    "#### Binarización (One hot ecoding) de las variables categóricas\n",
    "\n",
    "La binarización (one-hot-encoding) consiste en crear nuevas variables dummy con cada uno de los niveles de las variables cualitativas. Por ejemplo, una variable llamada color que contenga los niveles rojo, verde y azul, se convertirá en tres nuevas variables (color_rojo, color_verde, color_azul), todas con el valor 0 excepto la que coincide con la observación, que toma el valor 1.\n",
    "\n",
    "\n",
    "##### Estandarización y escalado de variables numéricas\n",
    "\n",
    "Cuando los predictores son numéricos, la escala en la que se miden, así como la magnitud de su varianza pueden influir en gran medida en el modelo. Si no se igualan de alguna forma los predictores, aquellos que se midan en una escala mayor o que tengan más varianza dominarán el modelo aunque no sean los que más relación tienen con la variable respuesta. Existen principalmente 2 estrategias para evitarlo:\n",
    "\n",
    "- Centrado: consiste en restarle a cada valor la media del predictor al que pertenece. Si los datos están almacenados en un dataframe, el centrado se consigue restándole a cada valor la media de la columna en la que se encuentra. Como resultado de esta transformación, todos los predictores pasan a tener una media de cero, es decir, los valores se centran en torno al origen.\n",
    "\n",
    "- Normalización (estandarización): consiste en transformar los datos de forma que todos los predictores estén aproximadamente en la misma escala.\n",
    "\n",
    "    - Normalización Z-score (StandardScaler): dividir cada predictor entre su desviación típica después de haber sido centrado, de esta forma, los datos pasan a tener una distribución normal.\n",
    "\n",
    "    - Estandarización max-min (MinMaxScaler): transformar los datos de forma que estén dentro del rango [0, 1].\n",
    "\n",
    "## Hiperparámetros\n",
    "\n",
    "La gran \"flexibilidad\" que tienen las redes neuronales es un arma de doble filo. Por un lado, son capaces de generar modelos que aprenden relaciones muy complejas, sin embargo, sufren fácilmente el problema de sobreajuste (**overfitting**) lo que los incapacita al tratar de prdecir nuevas observaciones. La forma de minimizar este problema y conseguir modelos útiles, pasa por configurar de forma adecuada sus hiperparámetros. Algunos de los más importantes son:\n",
    "\n",
    "### Número y tamaño de capas\n",
    "\n",
    "La arquitectura de una red, el número de capas y el número de neuronas que forman parte de cada capa, determinan en gran medida la complejidad del modelo y con ello su potencial capacidad de aprendizaje.\n",
    "\n",
    "La capa de entrada y salida son sencillas de establecer. La capa de entrada tiene tantas neuronas como predictores y la capa de salida tiene una neurona en problemas de regresión y tantas como clases en problemas de clasificación. En la mayoría de implementaciones, estos valores se establecen automáticamente en función del conjunto de entrenamiento. El usuario suele especificar únicamente el número de capas intermedias (ocultas) y el tamaño de las mismas.\n",
    "\n",
    "Cuantas más neuronas y capas, mayor la complejidad de las relaciones que puede aprender el modelo. Sin embargo, dado que en cada neurona está conectada por pesos al resto de neuronas de las capas adyacentes, el número de parámetros a aprender aumenta y con ello el tiempo de entrenamiento.\n",
    "\n",
    "\n",
    "### Learning rate\n",
    "\n",
    "\n",
    "El learning rate o ratio de aprendizaje establece cómo de rápido pueden cambiar los parámetros de un modelo a medida que se optimiza (aprende). Este hiperparámetro es uno de los más complicados de establecer, ya que depende mucho de los datos e interacciona con el resto de hiperparámetros. Si el learning rate es muy grande, el proceso de optimización puede ir saltando de una región a otra sin que el modelo sea capaz de aprender. Si por el contrario, el learning rate es muy pequeño, el proceso de entrenamiento puede tardar demasiado y no llegar a completarse.Algunas de las recomendaciones heurísticas basadas en prueba y error son:\n",
    "\n",
    "Utilizar un learning rate lo más pequeño posible siempre y cuando el tiempo de entrenamiento no supere las limitaciones temporales disponibles.\n",
    "\n",
    "No utilizar un valor constante de learning rate durante todo el proceso de entrenamiento. Por lo general, utilizar valores mayores al inicio y pequeños al final.\n",
    "\n",
    "\n",
    "### Algoritmo de optimización\n",
    "\n",
    "\n",
    "El descenso de gradiente y el descenso de gradiente estocástico fueron de los primeros métodos de optimización utilizados para entrenar modelos de redes neuronales. Ambos utilizan directamente el gradiente para dirigir la optimización. Pronto se vio que esto genera problemas a medida que las redes aumentan de tamaño (neuronas y capas). En muchas regiones del espacio de búsqueda, el gradiente es muy proximo a cero, lo que hace que la optimización quede estancada en estas regiones. Para evitar este problema, se han desarrollado modificaciones del descenso de gradiente capaces de adaptar el learning rate en función del gradiente y subgradiente. De esta forma, el proceso de aprendizaje se ralentiza o acelera dependiendo de las características de la región del espacio de búsqueda en el que se encuentren. Aunque existen multitud de adaptaciones, suele recomendarse:\n",
    "\n",
    ">Para conjuntos de datos pequeños: l-bfgs\n",
    "\n",
    ">Para conjuntos de datos grandes: adam o rmsprop\n",
    "\n",
    "La elección del algoritmo de optimización puede tener un impacto muy grande en el aprendizaje de los modelos, sobretodo en deep learning. Puede encontrarse una excelente descripción más detallada en el libro gratuito [Dive into Deep Learning](http://d2l.ai/chapter_optimization/index.html).\n",
    "\n",
    "\n",
    "### Regularización\n",
    "\n",
    "\n",
    "Los métodos de regularización se utilizan con el objetivo de reducir el sobreajuste (overfitting) de los modelos. Un modelo con sobreajuste memoriza los datos de entrenamiento pero es incapaz de predecir correctamente nuevas observaciones.\n",
    "\n",
    "Los modelos de redes neuronales pueden considerarse como modelos sobre parametrizados, por lo tanto, las estrategias de regularización son fundamentales. De entre las muchas que existen, destacan la regularización L1 y L2 (weight decay), y el dropout.\n",
    "\n",
    "#### Penalización L1 y L2\n",
    "\n",
    "El objetivo de la penalización L1 y L2, esta última también conocida como weight decay, es evitar que los pesos tomen valores excesivamente elevados. De esta forma se evita que unas pocas neuronas dominen el comportamiento de la red y se fuerza a que las características poco informativas (ruido) tengan pesos próximos o iguales a cero.\n",
    "\n",
    "\n",
    "#### Dropout\n",
    "\n",
    "El proceso consiste en de desactivar aleatoriamente una serie de neuronas durante el proceso de entrenamiento. En concreto, durante cada iteración del entrenamiento, se ponen a cero los pesos de una fracción aleatoria de neuronas por capa. El método de dropout, descrito por Srivastava et al. en 2014, se ha convertido en un estándar para entrenar redes neuronales. El porcentaje de neuronas que suele desactivarse por capa (dropout rate) suele ser un valor entre 0.2 y 0.5."
   ]
  },
  {
   "cell_type": "code",
   "execution_count": null,
   "metadata": {},
   "outputs": [],
   "source": []
  },
  {
   "cell_type": "code",
   "execution_count": null,
   "metadata": {},
   "outputs": [],
   "source": []
  },
  {
   "cell_type": "code",
   "execution_count": null,
   "metadata": {},
   "outputs": [],
   "source": []
  },
  {
   "cell_type": "markdown",
   "metadata": {},
   "source": [
    "### Perceptron\n",
    "\n",
    "El \"perceptrón\" es un algoritmo simple que, dado un vector de entrada $x$ de m valores $(x_1, x_2,..., x_m)$, a menudo llamado características de entrada o simplemente características, genera un $1$ (\"sí \") o un $0$ (\"no\"). Matemáticamente, definimos una función:\n",
    "\n",
    "$$\n",
    "f(\\textbf{x}) = \\begin{cases} \\textrm{1, si} \\sum_{i=1}^{n} {w_i  x_i + b} \\geq \\theta \\\\ \\\\ 0, \\textrm{en caso contrario} \\end{cases}\n",
    "$$\n",
    "\n",
    "Donde $w=(w_1,w_2,...,w_n)$ es un vector de pesos, $wx \\sum_{i=1}^{n} {w_i x_i }$ es el producto escalar y $b$ es el sesgo . Si recuerda la geometría elemental, wx + b define un hiperplano límite que cambia de posición según los valores asignados a w y b.\n",
    "\n",
    "Tenga en cuenta que un hiperplano es un subespacio cuya dimensión es uno menos que la de su espacio ambiental.\n",
    "\n",
    "<img src=\"Figures/hiperplane.png\" width=\"40%\">\n",
    "\n",
    "En otras palabras, ¡este es un algoritmo muy simple pero efectivo! Por ejemplo, dadas tres características de entrada, las cantidades de rojo, verde y azul en un color, el perceptrón podría intentar decidir si el color es blanco o no.\n",
    "\n",
    "Tenga en cuenta que el perceptrón no puede expresar una respuesta \"tal vez\". Puede responder \"sí\" (1) o \"no\" (0), si entendemos cómo definir w y b. Este es el proceso de \"entrenamiento\" que se discutirá en las siguientes secciones."
   ]
  },
  {
   "cell_type": "markdown",
   "metadata": {},
   "source": [
    "## RN con TensorFlow 2.0\n",
    "\n",
    "Hay cuatro partes principales:\n",
    "\n",
    ">Construcción del modelo： `tf.keras.Model` con `tf.keras.layers`\n",
    "\n",
    ">Función de pérdida de modelo： `tf.keras.losses`\n",
    "\n",
    ">Optimizador de modelos： `tf.keras.optimizer`\n",
    "\n",
    ">Evaluación del modelo： `tf.keras.metrics`\n",
    "\n",
    "Hay tres formas de crear un modelo en `tf.keras`: API secuencial, API funcional y subclases de modelos. Aquí, usaremos el más simple, `Sequential()`.\n",
    "\n",
    "El siguiente fragmento de código define una sola capa con 10 neuronas artificiales que espera 784 variables de entrada (también conocidas como características). Hay que tener en cuenta que la red es \"densa\", lo que significa que cada neurona en una capa está conectada a todas las neuronas ubicadas en la capa anterior y a todas las neuronas en la capa siguiente:\n"
   ]
  },
  {
   "cell_type": "code",
   "execution_count": null,
   "metadata": {},
   "outputs": [],
   "source": []
  },
  {
   "cell_type": "markdown",
   "metadata": {},
   "source": [
    "Cada neurona se puede inicializar con pesos específicos a través del parámetro `kernel_initializer`. Hay algunas opciones, las más comunes se enumeran a continuación:\n",
    "\n",
    ">`random_uniform`: Los pesos se inicializan en pequeños valores uniformemente aleatorios en el rango de -0,05 a 0,05.\n",
    "\n",
    ">`random_normal`: Los pesos se inicializan de acuerdo con una distribución gaussiana, con media cero y una pequeña desviación estándar de 0,05. Para aquellos de ustedes que no están familiarizados con la distribución gaussiana, piensen en una forma de \"curva de campana\" simétrica.\n",
    "\n",
    ">`zero`: Todos los pesos se inicializan a cero.\n",
    "\n",
    "Una lista completa de como inicializar está en: https://www.tensorflow.org/api_docs/python/tf/keras/initializers."
   ]
  },
  {
   "cell_type": "markdown",
   "metadata": {},
   "source": [
    "### Perceptrón Multicapa (reconocimiento de dígitos escritos a mano)\n",
    "\n",
    "En esta sección construiremos una red que puede reconocer números escritos a mano. Para lograr este objetivo, utilizaremos MNIST (http://yann.lecun.com/exdb/mnist/), una base de datos de dígitos escritos a mano compuesta por un conjunto de entrenamiento de 60 000 ejemplos y un conjunto de prueba de 10 000 ejemplos Los ejemplos de entrenamiento son anotados por humanos con la respuesta correcta. Por ejemplo, si el dígito escrito a mano es el número \"3\", entonces 3 es simplemente la etiqueta asociada con ese ejemplo.\n",
    "\n",
    "En el aprendizaje automático, cuando se dispone de un conjunto de datos con respuestas correctas, decimos que podemos realizar una forma de aprendizaje supervisado. En este caso podemos usar ejemplos de entrenamiento para mejorar nuestra red. Los ejemplos de prueba también tienen la respuesta correcta asociada a cada dígito. En este caso, sin embargo, la idea es fingir que la etiqueta es desconocida, dejar que la red haga la predicción y luego reconsiderar la etiqueta para evaluar qué tan bien nuestra red neuronal ha aprendido a reconocer dígitos. \n",
    "\n",
    "\n",
    "### One-hot encoding (OHE)\n",
    "\n",
    "Vamos a usar OHE como una herramienta simple para codificar información utilizada dentro de redes neuronales. En muchas aplicaciones es conveniente transformar características categóricas (no numéricas) en variables numéricas. Por ejemplo, la característica categórica \"dígito\" con valor d en [0 – 9] se puede codificar en un vector binario con 10 posiciones, que siempre tiene valor 0 excepto la posición d-ésima donde está presente un 1.\n",
    "\n",
    "Por ejemplo, el dígito 3 se puede codificar como [0, 0, 0, 1, 0, 0, 0, 0, 0, 0]. Este tipo de representación se denomina codificación one-hot, o a veces simplemente one-hot, y es muy común en la minería de datos cuando el algoritmo de aprendizaje se especializa en el manejo de funciones numéricas.\n",
    "\n",
    "\n",
    "### Definición de una red neuronal simple en TensorFlow 2.0\n",
    "\n",
    "Usaremos TensorFlow 2.0 para definir una red que reconozca los dígitos escritos a mano del MNIST. Empezamos con una red neuronal muy simple y luego la mejoramos progresivamente.\n",
    "\n",
    "Siguiendo el estilo de Keras, TensorFlow 2.0 proporciona [bibliotecas adecuadas](https://www.tensorflow.org/api_docs/python/tf/keras/datasets) para cargar el conjunto de datos y dividirlo en conjuntos de entrenamiento, `X_train`, que se usan para el entrenamiento de nuestra red y conjuntos de prueba, `X_test`, utilizados para evaluar el rendimiento. Los datos se convierten en `float32` para usar una precisión de 32 bits al entrenar una red neuronal y se normalizan al rango [0,1]. Además, cargamos las etiquetas verdaderas en `Y_train` y `Y_test` respectivamente, y realizamos una codificación one-hot en ellas. \n",
    "\n"
   ]
  },
  {
   "cell_type": "code",
   "execution_count": null,
   "metadata": {},
   "outputs": [],
   "source": []
  },
  {
   "cell_type": "markdown",
   "metadata": {},
   "source": [
    "Intuitivamente, `EPOCH` define cuánto debe durar el entrenamiento, `BATCH_SIZE` es la cantidad de muestras que alimenta a su red por cada iteración, y `VALIDATION` es la cantidad de datos reservados para verificar o probar la validez del entrenamiento. Veamos nuestro primer fragmento de código de una red neuronal en TensorFlow.\n"
   ]
  },
  {
   "cell_type": "code",
   "execution_count": null,
   "metadata": {},
   "outputs": [],
   "source": [
    "\n"
   ]
  },
  {
   "cell_type": "markdown",
   "metadata": {},
   "source": [
    "\n",
    "Se puede ver en el código anterior que la capa de entrada tiene una neurona asociada a cada píxel de la imagen para un total de **28*28=784 neuronas**, una para cada píxel en las imágenes MNIST.\n",
    "\n",
    "Normalmente, los valores asociados con cada píxel se normalizan en el rango [0,1] (lo que significa que la intensidad de cada píxel se divide por 255, el valor máximo de intensidad). La salida puede ser una de diez clases, con una clase para cada dígito.\n",
    "\n",
    "La capa final es una sola neurona con función de activación \"softmax\", que es una generalización de la función sigmoidea. Como se mencionó anteriormente, la salida de una función sigmoidea está en el rango (0, 1). De manera similar, un softmax \"aplasta\" un vector K-dimensional de valores reales arbitrarios en un vector K-dimensional de valores reales en el rango (0, 1), de modo que todos suman 1. En nuestro caso, agrega 10 respuestas proporcionadas por la capa anterior con 10 neuronas."
   ]
  },
  {
   "cell_type": "code",
   "execution_count": null,
   "metadata": {},
   "outputs": [],
   "source": []
  },
  {
   "cell_type": "markdown",
   "metadata": {},
   "source": [
    "Una vez que definimos el modelo, tenemos que compilarlo para que pueda ser ejecutado por `TensorFlow 2.0`. Hay algunas elecciones que se deben hacer durante la compilación. En primer lugar, debemos seleccionar un `optimizador`, que es el algoritmo específico que se utiliza para actualizar los pesos mientras entrenamos nuestro modelo. En segundo lugar, debemos seleccionar una función objetivo, que utiliza el optimizador para navegar por el espacio de ponderaciones (con frecuencia, las funciones objetivo se denominan funciones de pérdida o funciones de costo y el proceso de optimización se define como un proceso de minimización de pérdidas). Tercero, necesitamos evaluar el modelo entrenado. (Puede encontrar una lista completa de optimizadores en https://www.tensorflow.org/api_docs/python/tf/keras/optimizers).\n",
    "\n",
    "Algunas opciones comunes para funciones objetivas son:\n",
    "\n",
    ">`MSE`, define el error cuadrático medio entre las predicciones y los valores verdaderos. Matemáticamente, si $d$ es un vector de predicciones, $y$ es el vector de $n$ valores observados, entonces $MSE=\\frac{1}{n}\\sum_{i=1}^n(d-y)^2$ . Hay que tener en cuenta que esta función objetivo es el promedio de todos los errores cometidos en cada predicción. Si una predicción está muy alejada del valor real, entonces esta distancia se hace más evidente mediante la operación de elevar al cuadrado. Además, el cuadrado puede sumar el error sin importar si un valor dado es positivo o negativo.\n",
    "\n",
    ">`binary_crossentropy`, define la pérdida logarítmica binaria. Supongamos que nuestro modelo predice $p$ mientras que el objetivo es $c$, entonces la entropía cruzada binaria se define como $\\mathcal{L}=-c \\ln(p) - (1-c)\\ln(1-p)$. Hay que tener en cuenta que esta función objetivo es adecuada para la predicción de etiquetas binarias.\n",
    "\n",
    ">`categorical_crossentropy`, define la pérdida logarítmica multiclase. La entropía cruzada categórica compara la distribución de las predicciones con la distribución verdadera, con la probabilidad de la clase verdadera establecida en 1 y 0 para las otras clases. Si la clase verdadera es $c$ y la predicción es $y$, entonces la entropía cruzada categórica se define como: $\\mathcal{L(c,p)} = -\\sum_i C_i \\ln(p_i)$\n",
    "\n",
    "One way to think about multi-class logarithm loss is to consider the true class represented as a one-hot encoded vector, and the closer the model's outputs are to that vector, the lower the loss. Note that this objective function is suitable for multi-class label predictions. It is also the default choice in association with softmax activation. A complete list of loss functions can be found at https://www.tensorflow.org/api_docs/python/tf/keras/losses.\n",
    "\n",
    "Some common choices for metrics are:\n",
    "\n",
    ">`Accuracy`, which defines the proportion of correct predictions with respect to the targets\n",
    "\n",
    ">`Precision`, which defines how many selected items are relevant for a multi-label classification\n",
    "\n",
    ">`Recall`, which defines how many selected items are relevant for a multi-label classification\n",
    "\n",
    "A complete list of metrics can be found at https://www.tensorflow.org/api_docs/python/tf/keras/metrics.\n",
    "\n",
    "Metrics are similar to objective functions, with the only difference that they are not used for training a model, but only for evaluating the model. However, it is important to understand the difference between metrics and objective functions. As discussed, the loss function is used to optimize your network. This is the function minimized by the selected optimizer. Instead, a metric is used to judge the performance of your network. This is only for you to run an evaluation on and it should be separated from the optimization process. On some occasions, it would be ideal to directly optimize for a specific metric. However, some metrics are not differentiable with respect to their inputs, which precludes them from being used directly.\n",
    "\n",
    "When compiling a model in TensorFlow 2.0, it is possible to select the optimizer, the loss function, and the metric used together with a given model:\n",
    "\n",
    "Una forma de pensar en la pérdida logarítmica multiclase es considerar la verdadera clase representada como un vector codificado one-hot, y cuanto más cerca estén las salidas del modelo de ese vector, menor será la pérdida. Tenga en cuenta que esta función objetivo es adecuada para predicciones de etiquetas de varias clases. También es la opción predeterminada en asociación con la activación de softmax. Puede encontrar una lista completa de funciones de pérdida en https://www.tensorflow.org/api_docs/python/tf/keras/losses.\n",
    "\n",
    "Algunas opciones comunes para las métricas son:\n",
    "\n",
    ">`Accuracy`\n",
    "\n",
    ">`Precisión`\n",
    "\n",
    ">`Recall`\n",
    "\n",
    "Puede encontrar una lista completa de métricas en https://www.tensorflow.org/api_docs/python/tf/keras/metrics.\n",
    "\n",
    "Las métricas sirven para evaluar el modelo. Es importante comprender la diferencia entre métricas y funciones objetivo. Como se discutió, la función de pérdida se utiliza para optimizar la red. Esta es la función minimizada por el optimizador seleccionado. En su lugar, se utiliza una métrica para juzgar el rendimiento de la red. Esto es solo para que ejecute una evaluación y debe estar separado del proceso de optimización. En algunas ocasiones, sería ideal optimizar directamente para una métrica específica. Sin embargo, algunas métricas no son diferenciables con respecto a sus entradas, lo que impide que se utilicen directamente.\n",
    "\n",
    "Al compilar un modelo en TensorFlow 2.0, es posible seleccionar el optimizador, la función de pérdida y la métrica utilizada junto con un modelo determinado:"
   ]
  },
  {
   "cell_type": "code",
   "execution_count": null,
   "metadata": {},
   "outputs": [],
   "source": []
  },
  {
   "cell_type": "markdown",
   "metadata": {},
   "source": [
    ">**epochs** es la cantidad de veces que el modelo se expone al conjunto de entrenamiento. En cada iteración, el optimizador intenta ajustar los pesos para que la función objetivo se minimice.\n",
    "\n",
    ">**batch_size** es el número de instancias de entrenamiento observadas antes de que el optimizador realice una actualización de peso; suele haber muchos lotes por época."
   ]
  },
  {
   "cell_type": "markdown",
   "metadata": {},
   "source": [
    "Entrenar un modelo en TensorFlow 2.0 es muy simple:"
   ]
  },
  {
   "cell_type": "code",
   "execution_count": null,
   "metadata": {},
   "outputs": [],
   "source": []
  },
  {
   "cell_type": "markdown",
   "metadata": {},
   "source": [
    "\n",
    "\n",
    "Hay que tomar en cuenta que hemos reservado parte del conjunto de entrenamiento para la validación. La idea clave es que reservamos una parte de los datos de entrenamiento para medir el rendimiento en la validación durante el entrenamiento. Esta es una buena práctica a seguir para cualquier tarea de aprendizaje automático. \n",
    "\n",
    "Una vez que se entrena el modelo, podemos evaluarlo en el conjunto de prueba que contiene nuevos ejemplos nunca vistos por el modelo durante la fase de entrenamiento.\n",
    "\n",
    "En TensorFlow 2.0, podemos usar el método de evaluación (X_test, Y_test) para calcular test_loss y test_acc:"
   ]
  },
  {
   "cell_type": "code",
   "execution_count": null,
   "metadata": {},
   "outputs": [],
   "source": []
  },
  {
   "cell_type": "markdown",
   "metadata": {},
   "source": [
    "### Mejorando la red simple en TensorFlow 2.0 con capas ocultas\n",
    "\n",
    "Es un buen punto de partida, pero podemos mejorarlo. Veamos cómo.\n",
    "\n",
    "Una mejora inicial es agregar capas adicionales a nuestra red porque estas neuronas adicionales podrían ayudarla intuitivamente a aprender patrones más complejos en los datos de entrenamiento. En otras palabras, las capas adicionales agregan más parámetros, lo que potencialmente permite que un modelo memorice patrones más complejos. Entonces, después de la capa de entrada, tenemos una primera capa densa con N_HIDDEN neuronas y una función de activación \"ReLU\". Esta capa adicional se considera oculta porque no está conectada directamente ni con la entrada ni con la salida. Después de la primera capa oculta, tenemos una segunda capa oculta nuevamente con N_HIDDEN neuronas seguida de una capa de salida con 10 neuronas, cada una de las cuales se disparará cuando se reconozca el dígito relativo. El siguiente código define esta nueva red:\n"
   ]
  },
  {
   "cell_type": "code",
   "execution_count": null,
   "metadata": {},
   "outputs": [],
   "source": []
  },
  {
   "cell_type": "markdown",
   "metadata": {},
   "source": [
    "### Mejorar aún más la red simple en TensorFlow con Dropout\n",
    "\n",
    "Una segunda mejora es muy simple. Decidimos descartar aleatoriamente, con la probabilidad DROPOUT, algunos de los valores propagados dentro de nuestra densa red interna de capas ocultas durante el entrenamiento. En el aprendizaje automático, esta es una forma bien conocida de regularización. Sorprendentemente, esta idea de descartar aleatoriamente algunos valores puede mejorar nuestro rendimiento. La idea detrás de esta mejora es que la caída aleatoria obliga a la red a aprender patrones redundantes que son útiles para una mejor generalización:"
   ]
  },
  {
   "cell_type": "code",
   "execution_count": null,
   "metadata": {},
   "outputs": [],
   "source": []
  }
 ],
 "metadata": {
  "kernelspec": {
   "display_name": "Python 3",
   "language": "python",
   "name": "python3"
  },
  "language_info": {
   "codemirror_mode": {
    "name": "ipython",
    "version": 3
   },
   "file_extension": ".py",
   "mimetype": "text/x-python",
   "name": "python",
   "nbconvert_exporter": "python",
   "pygments_lexer": "ipython3",
   "version": "3.8.8"
  }
 },
 "nbformat": 4,
 "nbformat_minor": 4
}
