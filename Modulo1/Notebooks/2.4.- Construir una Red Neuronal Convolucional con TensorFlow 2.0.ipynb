{
 "cells": [
  {
   "cell_type": "markdown",
   "metadata": {},
   "source": [
    "<img style=\"float: left;;\" src='Figures/alinco.png' /></a>\n",
    "\n",
    "# <center> <font color= #000047> Módulo 1: Crear una Red Neuronal Convolucional en TensorFlow 2.0\n",
    "\n"
   ]
  },
  {
   "cell_type": "markdown",
   "metadata": {
    "colab_type": "text",
    "id": "zJMS8p3wfPXO"
   },
   "source": [
    "## Paso 1: Instalar las dependencias y la configuración del notebook en GPU"
   ]
  },
  {
   "cell_type": "code",
   "execution_count": null,
   "metadata": {
    "colab": {},
    "colab_type": "code",
    "id": "PXNUanZvcwwZ"
   },
   "outputs": [],
   "source": [
    "#!pip install tensorflow-gpu==2.3.0\n",
    "%tensorflow_version 2.x"
   ]
  },
  {
   "cell_type": "code",
   "execution_count": null,
   "metadata": {},
   "outputs": [],
   "source": [
    "tf.__version__"
   ]
  },
  {
   "cell_type": "markdown",
   "metadata": {
    "colab_type": "text",
    "id": "lRHFdNYAfWKJ"
   },
   "source": [
    "## Paso 2: Importar las librerías necesarias"
   ]
  },
  {
   "cell_type": "code",
   "execution_count": null,
   "metadata": {
    "colab": {
     "base_uri": "https://localhost:8080/",
     "height": 37
    },
    "colab_type": "code",
    "executionInfo": {
     "elapsed": 2846,
     "status": "ok",
     "timestamp": 1599237193516,
     "user": {
      "displayName": "Juan Gabriel Gomila Salas",
      "photoUrl": "https://lh3.googleusercontent.com/a-/AOh14GjdBM44CAiZlDiF-IkE0NJQH-LHKt1b0A22wmma_w=s64",
      "userId": "03106941341701838274"
     },
     "user_tz": -120
    },
    "id": "tS5xFeQwe9Xu",
    "outputId": "5099a4ec-28a1-48bc-c052-eda0857acacf"
   },
   "outputs": [],
   "source": []
  },
  {
   "cell_type": "markdown",
   "metadata": {
    "colab_type": "text",
    "id": "e8zYubaPfy-S"
   },
   "source": [
    "## Paso 3: Pre procesado de datos\n"
   ]
  },
  {
   "cell_type": "markdown",
   "metadata": {
    "colab_type": "text",
    "id": "AOAGjiPogF0w"
   },
   "source": [
    "## Data: Horse_Humans\n",
    "\n",
    "El conjunto de datos utilizado pertenece al catálogo de datos [Tensorflow Datasets](https://www.tensorflow.org/datasets/catalog/malaria?hl=es-419). Construiremos un clasificador de caballos o humanos que le dirá si una imagen dada contiene un caballo o un humano, donde la red está entrenada para reconocer las características que determinan cuál es cuál.\n",
    "\n",
    "Usaremos la librería OS para usar las bibliotecas del sistema operativo, lo que le brinda acceso al sistema de archivos y la biblioteca zipfile que le permite descomprimir los datos."
   ]
  },
  {
   "cell_type": "code",
   "execution_count": null,
   "metadata": {},
   "outputs": [],
   "source": []
  },
  {
   "cell_type": "code",
   "execution_count": null,
   "metadata": {},
   "outputs": [],
   "source": []
  },
  {
   "cell_type": "code",
   "execution_count": null,
   "metadata": {},
   "outputs": [],
   "source": []
  },
  {
   "cell_type": "markdown",
   "metadata": {},
   "source": [
    "The contents of the .zip are extracted to the base directory /tmp/horse-or-human, which in turn each contain horses and humans subdirectories.\n",
    "El contenido del .zip se extrae al directorio base /tmp/horse-or-human, que a su vez contiene subdirectorios de imagenes de caballos y humanos.\n",
    "\n",
    "En resumen: el conjunto de entrenamiento son los datos que se utilizan para decirle al modelo de red neuronal que 'este es el aspecto de un caballo', 'este es el aspecto de un humano', etc.\n",
    "\n",
    "Una cosa a la que debe prestar atención en esta muestra: no etiquetamos explícitamente las imágenes como caballos o humanos. Si recuerdas el ejemplo anterior de la moda, habíamos etiquetado 'esto es un 1', 'esto es un 7', etc.\n",
    "\n",
    "Más tarde, verá que se usa algo llamado ImageGenerator, y está codificado para leer imágenes de subdirectorios y etiquetarlas automáticamente a partir del nombre de ese subdirectorio. Entonces, por ejemplo, tendrá un directorio de 'entrenamiento' que contiene un directorio de 'caballos' y uno de 'humanos'. ImageGenerator etiquetará las imágenes apropiadamente para usted, reduciendo un paso de codificación.\n",
    "\n",
    "Definamos cada uno de estos directorios:"
   ]
  },
  {
   "cell_type": "code",
   "execution_count": null,
   "metadata": {},
   "outputs": [],
   "source": []
  },
  {
   "cell_type": "markdown",
   "metadata": {},
   "source": [
    "Ahora, veamos cómo se ven los nombres de los archivos en los directorios de entrenamiento de caballos y humanos:"
   ]
  },
  {
   "cell_type": "code",
   "execution_count": null,
   "metadata": {},
   "outputs": [],
   "source": []
  },
  {
   "cell_type": "markdown",
   "metadata": {},
   "source": [
    "Averigüemos el número total de imágenes de caballos y humanos en los directorios:"
   ]
  },
  {
   "cell_type": "code",
   "execution_count": null,
   "metadata": {},
   "outputs": [],
   "source": []
  },
  {
   "cell_type": "markdown",
   "metadata": {},
   "source": [
    "Ahora echemos un vistazo a algunas imágenes para tener una mejor idea de cómo se ven. Primero, configure los parámetros de matplot:"
   ]
  },
  {
   "cell_type": "code",
   "execution_count": null,
   "metadata": {},
   "outputs": [],
   "source": []
  },
  {
   "cell_type": "markdown",
   "metadata": {},
   "source": [
    "Now, display a batch of 8 horse and 8 human pictures. You can rerun the cell to see a fresh batch each time:"
   ]
  },
  {
   "cell_type": "code",
   "execution_count": null,
   "metadata": {},
   "outputs": [],
   "source": []
  },
  {
   "cell_type": "markdown",
   "metadata": {
    "colab_type": "text",
    "id": "HXiuZulIguyf"
   },
   "source": [
    "## Paso 4: Construir una red neuronal convolucional"
   ]
  },
  {
   "cell_type": "markdown",
   "metadata": {
    "colab_type": "text",
    "id": "ZFTetk8ngy0f"
   },
   "source": [
    "### Definir el modelo"
   ]
  },
  {
   "cell_type": "markdown",
   "metadata": {},
   "source": [
    "\n",
    "Tenga en cuenta que debido a que nos enfrentamos a un problema de clasificación de dos clases, es decir, un problema de clasificación binaria, terminaremos nuestra red con una activación sigmoide, de modo que la salida de nuestra red será un solo escalar entre 0 y 1, codificando la probabilidad de que la imagen actual es de clase 1 (a diferencia de la clase 0)."
   ]
  },
  {
   "cell_type": "code",
   "execution_count": null,
   "metadata": {
    "colab": {},
    "colab_type": "code",
    "executionInfo": {
     "elapsed": 6071,
     "status": "ok",
     "timestamp": 1599237273169,
     "user": {
      "displayName": "Juan Gabriel Gomila Salas",
      "photoUrl": "https://lh3.googleusercontent.com/a-/AOh14GjdBM44CAiZlDiF-IkE0NJQH-LHKt1b0A22wmma_w=s64",
      "userId": "03106941341701838274"
     },
     "user_tz": -120
    },
    "id": "1TR0JGP5gq2i"
   },
   "outputs": [],
   "source": []
  },
  {
   "cell_type": "markdown",
   "metadata": {},
   "source": [
    "La columna \"forma de salida\" muestra cómo evoluciona el tamaño de su mapa de características en cada capa sucesiva. Las capas de convolución reducen un poco el tamaño de los mapas de características debido al relleno, y cada capa de agrupación reduce a la mitad las dimensiones.\n",
    "\n",
    "A continuación, configuraremos las especificaciones para el entrenamiento del modelo. Entrenaremos nuestro modelo con la pérdida de entropía cruzada binaria, porque es un problema de clasificación binaria y nuestra activación final es un sigmoide. (Para refrescar las métricas de pérdida, consulte el Curso intensivo de aprendizaje automático). Usaremos el optimizador rmsprop con una tasa de aprendizaje de 0,001. Durante el entrenamiento, querremos monitorear la precisión de la clasificación.\n",
    "\n",
    "NOTA: En este caso, usar el algoritmo de optimización RMSprop es preferible al descenso de gradiente estocástico (SGD), porque RMSprop automatiza el ajuste de la tasa de aprendizaje para nosotros. (Otros optimizadores, como Adam y Adagrad, también adaptan automáticamente la tasa de aprendizaje durante el entrenamiento y funcionarían igual de bien aquí)."
   ]
  },
  {
   "cell_type": "markdown",
   "metadata": {
    "colab_type": "text",
    "id": "DYgvbNihtprw"
   },
   "source": [
    "### Compilar el modelo\n",
    "\n"
   ]
  },
  {
   "cell_type": "code",
   "execution_count": null,
   "metadata": {
    "colab": {},
    "colab_type": "code",
    "executionInfo": {
     "elapsed": 684,
     "status": "ok",
     "timestamp": 1599237296070,
     "user": {
      "displayName": "Juan Gabriel Gomila Salas",
      "photoUrl": "https://lh3.googleusercontent.com/a-/AOh14GjdBM44CAiZlDiF-IkE0NJQH-LHKt1b0A22wmma_w=s64",
      "userId": "03106941341701838274"
     },
     "user_tz": -120
    },
    "id": "oYHELxz4tsa-"
   },
   "outputs": [],
   "source": []
  },
  {
   "cell_type": "markdown",
   "metadata": {
    "colab_type": "text",
    "id": "Gox3SmwUtwgX"
   },
   "source": [
    "### Entrenar el modelo"
   ]
  },
  {
   "cell_type": "code",
   "execution_count": null,
   "metadata": {},
   "outputs": [],
   "source": []
  },
  {
   "cell_type": "markdown",
   "metadata": {},
   "source": [
    "### Training\n",
    "Entrenemos durante 15 épocas; esto puede tardar unos minutos en ejecutarse.\n"
   ]
  },
  {
   "cell_type": "code",
   "execution_count": null,
   "metadata": {},
   "outputs": [],
   "source": []
  },
  {
   "cell_type": "markdown",
   "metadata": {
    "colab_type": "text",
    "id": "D8C7Pm0NuOrJ"
   },
   "source": [
    "### Evaluar el modelo\n",
    "\n"
   ]
  },
  {
   "cell_type": "code",
   "execution_count": null,
   "metadata": {
    "colab": {
     "base_uri": "https://localhost:8080/",
     "height": 34
    },
    "colab_type": "code",
    "executionInfo": {
     "elapsed": 2006,
     "status": "ok",
     "timestamp": 1564609763373,
     "user": {
      "displayName": "Juan Gabriel Gomila Salas",
      "photoUrl": "https://lh4.googleusercontent.com/-RJ38mzk8Fog/AAAAAAAAAAI/AAAAAAAAA_g/VV8PcNMAUrk/s64/photo.jpg",
      "userId": "03106941341701838274"
     },
     "user_tz": -120
    },
    "id": "Z9r8TtNet3D0",
    "outputId": "072c4a8a-b049-4282-ca01-839ea0ed9be8"
   },
   "outputs": [],
   "source": [
    "\n"
   ]
  },
  {
   "cell_type": "code",
   "execution_count": null,
   "metadata": {
    "colab": {
     "base_uri": "https://localhost:8080/",
     "height": 34
    },
    "colab_type": "code",
    "executionInfo": {
     "elapsed": 1416,
     "status": "ok",
     "timestamp": 1564609770437,
     "user": {
      "displayName": "Juan Gabriel Gomila Salas",
      "photoUrl": "https://lh4.googleusercontent.com/-RJ38mzk8Fog/AAAAAAAAAAI/AAAAAAAAA_g/VV8PcNMAUrk/s64/photo.jpg",
      "userId": "03106941341701838274"
     },
     "user_tz": -120
    },
    "id": "0rpAPpfzuV0p",
    "outputId": "20f0d11b-4aed-4856-e8fe-782f51d2f4ca"
   },
   "outputs": [],
   "source": []
  },
  {
   "cell_type": "code",
   "execution_count": null,
   "metadata": {},
   "outputs": [],
   "source": []
  },
  {
   "cell_type": "code",
   "execution_count": null,
   "metadata": {},
   "outputs": [],
   "source": []
  }
 ],
 "metadata": {
  "accelerator": "GPU",
  "colab": {
   "collapsed_sections": [],
   "name": "Colab 4 - Construir una Red Neuronal Convolucional con TensorFlow 2.0.ipynb",
   "provenance": [
    {
     "file_id": "1M90124HfEO_zORhbVDdFeDMHV743eJmc",
     "timestamp": 1564596643353
    },
    {
     "file_id": "11eF0dRN2zWmXeBI3vQa2OTE-gzRp3Q7o",
     "timestamp": 1558700838561
    }
   ]
  },
  "kernelspec": {
   "display_name": "Python 3",
   "language": "python",
   "name": "python3"
  },
  "language_info": {
   "codemirror_mode": {
    "name": "ipython",
    "version": 3
   },
   "file_extension": ".py",
   "mimetype": "text/x-python",
   "name": "python",
   "nbconvert_exporter": "python",
   "pygments_lexer": "ipython3",
   "version": "3.8.8"
  }
 },
 "nbformat": 4,
 "nbformat_minor": 1
}
